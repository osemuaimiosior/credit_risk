{
  "nbformat": 4,
  "nbformat_minor": 0,
  "metadata": {
    "kernelspec": {
      "display_name": "Python 3",
      "language": "python",
      "name": "python3"
    },
    "language_info": {
      "codemirror_mode": {
        "name": "ipython",
        "version": 3
      },
      "file_extension": ".py",
      "mimetype": "text/x-python",
      "name": "python",
      "nbconvert_exporter": "python",
      "pygments_lexer": "ipython3",
      "version": "3.7.3"
    },
    "colab": {
      "name": "Credit worthiness.ipynb",
      "provenance": [],
      "include_colab_link": true
    }
  },
  "cells": [
    {
      "cell_type": "markdown",
      "metadata": {
        "id": "view-in-github",
        "colab_type": "text"
      },
      "source": [
        "<a href=\"https://colab.research.google.com/github/osemuaimiosior/credit_risk/blob/master/Credit_worthiness.ipynb\" target=\"_parent\"><img src=\"https://colab.research.google.com/assets/colab-badge.svg\" alt=\"Open In Colab\"/></a>"
      ]
    },
    {
      "cell_type": "code",
      "metadata": {
        "id": "HzO0XD9MZ6lh",
        "colab_type": "code",
        "colab": {
          "base_uri": "https://localhost:8080/",
          "height": 36
        },
        "outputId": "7975f0bc-5490-4b8d-cdcf-9445a4fcf7fe"
      },
      "source": [
        "from google.colab import drive\n",
        "drive.mount('/content/drive')"
      ],
      "execution_count": 6,
      "outputs": [
        {
          "output_type": "stream",
          "text": [
            "Mounted at /content/drive\n"
          ],
          "name": "stdout"
        }
      ]
    },
    {
      "cell_type": "code",
      "metadata": {
        "id": "EA3eUESlabGd",
        "colab_type": "code",
        "colab": {
          "base_uri": "https://localhost:8080/",
          "height": 36
        },
        "outputId": "1c25d675-b531-45de-a41b-2e68bce1e9b6"
      },
      "source": [
        "!ls"
      ],
      "execution_count": 7,
      "outputs": [
        {
          "output_type": "stream",
          "text": [
            "drive  sample_data\n"
          ],
          "name": "stdout"
        }
      ]
    },
    {
      "cell_type": "code",
      "metadata": {
        "id": "ooCblbKEYqTj",
        "colab_type": "code",
        "colab": {
          "base_uri": "https://localhost:8080/",
          "height": 74
        },
        "outputId": "ca0e9a87-6c44-44e8-e239-919e2ac08541"
      },
      "source": [
        "import pandas as pd\n",
        "import numpy as np\n",
        "import matplotlib.pyplot as plt\n",
        "import seaborn as sns\n",
        "sns.set()"
      ],
      "execution_count": 1,
      "outputs": [
        {
          "output_type": "stream",
          "text": [
            "/usr/local/lib/python3.6/dist-packages/statsmodels/tools/_testing.py:19: FutureWarning: pandas.util.testing is deprecated. Use the functions in the public API at pandas.testing instead.\n",
            "  import pandas.util.testing as tm\n"
          ],
          "name": "stderr"
        }
      ]
    },
    {
      "cell_type": "code",
      "metadata": {
        "id": "trsBd_nCYqU-",
        "colab_type": "code",
        "colab": {
          "base_uri": "https://localhost:8080/",
          "height": 206
        },
        "outputId": "fbcf1992-cb06-4a75-d52d-0039f5825970"
      },
      "source": [
        "data = pd.read_csv('/content/drive/My Drive/Colab Notebooks/german_data.csv')\n",
        "data.head() "
      ],
      "execution_count": 9,
      "outputs": [
        {
          "output_type": "execute_result",
          "data": {
            "text/html": [
              "<div>\n",
              "<style scoped>\n",
              "    .dataframe tbody tr th:only-of-type {\n",
              "        vertical-align: middle;\n",
              "    }\n",
              "\n",
              "    .dataframe tbody tr th {\n",
              "        vertical-align: top;\n",
              "    }\n",
              "\n",
              "    .dataframe thead th {\n",
              "        text-align: right;\n",
              "    }\n",
              "</style>\n",
              "<table border=\"1\" class=\"dataframe\">\n",
              "  <thead>\n",
              "    <tr style=\"text-align: right;\">\n",
              "      <th></th>\n",
              "      <th>A11</th>\n",
              "      <th>6</th>\n",
              "      <th>A34</th>\n",
              "      <th>A43</th>\n",
              "      <th>1169</th>\n",
              "      <th>A65</th>\n",
              "      <th>A75</th>\n",
              "      <th>4</th>\n",
              "      <th>A93</th>\n",
              "      <th>A101</th>\n",
              "      <th>4.1</th>\n",
              "      <th>A121</th>\n",
              "      <th>67</th>\n",
              "      <th>A143</th>\n",
              "      <th>A152</th>\n",
              "      <th>2</th>\n",
              "      <th>A173</th>\n",
              "      <th>1</th>\n",
              "      <th>A192</th>\n",
              "      <th>A201</th>\n",
              "      <th>1.1</th>\n",
              "    </tr>\n",
              "  </thead>\n",
              "  <tbody>\n",
              "    <tr>\n",
              "      <th>0</th>\n",
              "      <td>A12</td>\n",
              "      <td>48</td>\n",
              "      <td>A32</td>\n",
              "      <td>A43</td>\n",
              "      <td>5951</td>\n",
              "      <td>A61</td>\n",
              "      <td>A73</td>\n",
              "      <td>2</td>\n",
              "      <td>A92</td>\n",
              "      <td>A101</td>\n",
              "      <td>2</td>\n",
              "      <td>A121</td>\n",
              "      <td>22</td>\n",
              "      <td>A143</td>\n",
              "      <td>A152</td>\n",
              "      <td>1</td>\n",
              "      <td>A173</td>\n",
              "      <td>1</td>\n",
              "      <td>A191</td>\n",
              "      <td>A201</td>\n",
              "      <td>2.0</td>\n",
              "    </tr>\n",
              "    <tr>\n",
              "      <th>1</th>\n",
              "      <td>A14</td>\n",
              "      <td>12</td>\n",
              "      <td>A34</td>\n",
              "      <td>A46</td>\n",
              "      <td>2096</td>\n",
              "      <td>A61</td>\n",
              "      <td>A74</td>\n",
              "      <td>2</td>\n",
              "      <td>A93</td>\n",
              "      <td>A101</td>\n",
              "      <td>3</td>\n",
              "      <td>A121</td>\n",
              "      <td>49</td>\n",
              "      <td>A143</td>\n",
              "      <td>A152</td>\n",
              "      <td>1</td>\n",
              "      <td>A172</td>\n",
              "      <td>2</td>\n",
              "      <td>A191</td>\n",
              "      <td>A201</td>\n",
              "      <td>1.0</td>\n",
              "    </tr>\n",
              "    <tr>\n",
              "      <th>2</th>\n",
              "      <td>A11</td>\n",
              "      <td>42</td>\n",
              "      <td>A32</td>\n",
              "      <td>A42</td>\n",
              "      <td>7882</td>\n",
              "      <td>A61</td>\n",
              "      <td>A74</td>\n",
              "      <td>2</td>\n",
              "      <td>A93</td>\n",
              "      <td>A103</td>\n",
              "      <td>4</td>\n",
              "      <td>A122</td>\n",
              "      <td>45</td>\n",
              "      <td>A143</td>\n",
              "      <td>A153</td>\n",
              "      <td>1</td>\n",
              "      <td>A173</td>\n",
              "      <td>2</td>\n",
              "      <td>A191</td>\n",
              "      <td>A201</td>\n",
              "      <td>1.0</td>\n",
              "    </tr>\n",
              "    <tr>\n",
              "      <th>3</th>\n",
              "      <td>A11</td>\n",
              "      <td>24</td>\n",
              "      <td>A33</td>\n",
              "      <td>A40</td>\n",
              "      <td>4870</td>\n",
              "      <td>A61</td>\n",
              "      <td>A73</td>\n",
              "      <td>3</td>\n",
              "      <td>A93</td>\n",
              "      <td>A101</td>\n",
              "      <td>4</td>\n",
              "      <td>A124</td>\n",
              "      <td>53</td>\n",
              "      <td>A143</td>\n",
              "      <td>A153</td>\n",
              "      <td>2</td>\n",
              "      <td>A173</td>\n",
              "      <td>2</td>\n",
              "      <td>A191</td>\n",
              "      <td>A201</td>\n",
              "      <td>2.0</td>\n",
              "    </tr>\n",
              "    <tr>\n",
              "      <th>4</th>\n",
              "      <td>A14</td>\n",
              "      <td>36</td>\n",
              "      <td>A32</td>\n",
              "      <td>A46</td>\n",
              "      <td>9055</td>\n",
              "      <td>A65</td>\n",
              "      <td>A73</td>\n",
              "      <td>2</td>\n",
              "      <td>A93</td>\n",
              "      <td>A101</td>\n",
              "      <td>4</td>\n",
              "      <td>A124</td>\n",
              "      <td>35</td>\n",
              "      <td>A143</td>\n",
              "      <td>A153</td>\n",
              "      <td>1</td>\n",
              "      <td>A172</td>\n",
              "      <td>2</td>\n",
              "      <td>A192</td>\n",
              "      <td>A201</td>\n",
              "      <td>1.0</td>\n",
              "    </tr>\n",
              "  </tbody>\n",
              "</table>\n",
              "</div>"
            ],
            "text/plain": [
              "   A11   6  A34  A43  1169  A65  A75  ...  A152  2  A173  1  A192  A201  1.1\n",
              "0  A12  48  A32  A43  5951  A61  A73  ...  A152  1  A173  1  A191  A201  2.0\n",
              "1  A14  12  A34  A46  2096  A61  A74  ...  A152  1  A172  2  A191  A201  1.0\n",
              "2  A11  42  A32  A42  7882  A61  A74  ...  A153  1  A173  2  A191  A201  1.0\n",
              "3  A11  24  A33  A40  4870  A61  A73  ...  A153  2  A173  2  A191  A201  2.0\n",
              "4  A14  36  A32  A46  9055  A65  A73  ...  A153  1  A172  2  A192  A201  1.0\n",
              "\n",
              "[5 rows x 21 columns]"
            ]
          },
          "metadata": {
            "tags": []
          },
          "execution_count": 9
        }
      ]
    },
    {
      "cell_type": "code",
      "metadata": {
        "id": "N4GA8KAmYqWS",
        "colab_type": "code",
        "colab": {
          "base_uri": "https://localhost:8080/",
          "height": 206
        },
        "outputId": "0574747f-f9ee-42f9-d128-6fcaf99d9f4f"
      },
      "source": [
        "data.head()"
      ],
      "execution_count": 10,
      "outputs": [
        {
          "output_type": "execute_result",
          "data": {
            "text/html": [
              "<div>\n",
              "<style scoped>\n",
              "    .dataframe tbody tr th:only-of-type {\n",
              "        vertical-align: middle;\n",
              "    }\n",
              "\n",
              "    .dataframe tbody tr th {\n",
              "        vertical-align: top;\n",
              "    }\n",
              "\n",
              "    .dataframe thead th {\n",
              "        text-align: right;\n",
              "    }\n",
              "</style>\n",
              "<table border=\"1\" class=\"dataframe\">\n",
              "  <thead>\n",
              "    <tr style=\"text-align: right;\">\n",
              "      <th></th>\n",
              "      <th>A11</th>\n",
              "      <th>6</th>\n",
              "      <th>A34</th>\n",
              "      <th>A43</th>\n",
              "      <th>1169</th>\n",
              "      <th>A65</th>\n",
              "      <th>A75</th>\n",
              "      <th>4</th>\n",
              "      <th>A93</th>\n",
              "      <th>A101</th>\n",
              "      <th>4.1</th>\n",
              "      <th>A121</th>\n",
              "      <th>67</th>\n",
              "      <th>A143</th>\n",
              "      <th>A152</th>\n",
              "      <th>2</th>\n",
              "      <th>A173</th>\n",
              "      <th>1</th>\n",
              "      <th>A192</th>\n",
              "      <th>A201</th>\n",
              "      <th>1.1</th>\n",
              "    </tr>\n",
              "  </thead>\n",
              "  <tbody>\n",
              "    <tr>\n",
              "      <th>0</th>\n",
              "      <td>A12</td>\n",
              "      <td>48</td>\n",
              "      <td>A32</td>\n",
              "      <td>A43</td>\n",
              "      <td>5951</td>\n",
              "      <td>A61</td>\n",
              "      <td>A73</td>\n",
              "      <td>2</td>\n",
              "      <td>A92</td>\n",
              "      <td>A101</td>\n",
              "      <td>2</td>\n",
              "      <td>A121</td>\n",
              "      <td>22</td>\n",
              "      <td>A143</td>\n",
              "      <td>A152</td>\n",
              "      <td>1</td>\n",
              "      <td>A173</td>\n",
              "      <td>1</td>\n",
              "      <td>A191</td>\n",
              "      <td>A201</td>\n",
              "      <td>2.0</td>\n",
              "    </tr>\n",
              "    <tr>\n",
              "      <th>1</th>\n",
              "      <td>A14</td>\n",
              "      <td>12</td>\n",
              "      <td>A34</td>\n",
              "      <td>A46</td>\n",
              "      <td>2096</td>\n",
              "      <td>A61</td>\n",
              "      <td>A74</td>\n",
              "      <td>2</td>\n",
              "      <td>A93</td>\n",
              "      <td>A101</td>\n",
              "      <td>3</td>\n",
              "      <td>A121</td>\n",
              "      <td>49</td>\n",
              "      <td>A143</td>\n",
              "      <td>A152</td>\n",
              "      <td>1</td>\n",
              "      <td>A172</td>\n",
              "      <td>2</td>\n",
              "      <td>A191</td>\n",
              "      <td>A201</td>\n",
              "      <td>1.0</td>\n",
              "    </tr>\n",
              "    <tr>\n",
              "      <th>2</th>\n",
              "      <td>A11</td>\n",
              "      <td>42</td>\n",
              "      <td>A32</td>\n",
              "      <td>A42</td>\n",
              "      <td>7882</td>\n",
              "      <td>A61</td>\n",
              "      <td>A74</td>\n",
              "      <td>2</td>\n",
              "      <td>A93</td>\n",
              "      <td>A103</td>\n",
              "      <td>4</td>\n",
              "      <td>A122</td>\n",
              "      <td>45</td>\n",
              "      <td>A143</td>\n",
              "      <td>A153</td>\n",
              "      <td>1</td>\n",
              "      <td>A173</td>\n",
              "      <td>2</td>\n",
              "      <td>A191</td>\n",
              "      <td>A201</td>\n",
              "      <td>1.0</td>\n",
              "    </tr>\n",
              "    <tr>\n",
              "      <th>3</th>\n",
              "      <td>A11</td>\n",
              "      <td>24</td>\n",
              "      <td>A33</td>\n",
              "      <td>A40</td>\n",
              "      <td>4870</td>\n",
              "      <td>A61</td>\n",
              "      <td>A73</td>\n",
              "      <td>3</td>\n",
              "      <td>A93</td>\n",
              "      <td>A101</td>\n",
              "      <td>4</td>\n",
              "      <td>A124</td>\n",
              "      <td>53</td>\n",
              "      <td>A143</td>\n",
              "      <td>A153</td>\n",
              "      <td>2</td>\n",
              "      <td>A173</td>\n",
              "      <td>2</td>\n",
              "      <td>A191</td>\n",
              "      <td>A201</td>\n",
              "      <td>2.0</td>\n",
              "    </tr>\n",
              "    <tr>\n",
              "      <th>4</th>\n",
              "      <td>A14</td>\n",
              "      <td>36</td>\n",
              "      <td>A32</td>\n",
              "      <td>A46</td>\n",
              "      <td>9055</td>\n",
              "      <td>A65</td>\n",
              "      <td>A73</td>\n",
              "      <td>2</td>\n",
              "      <td>A93</td>\n",
              "      <td>A101</td>\n",
              "      <td>4</td>\n",
              "      <td>A124</td>\n",
              "      <td>35</td>\n",
              "      <td>A143</td>\n",
              "      <td>A153</td>\n",
              "      <td>1</td>\n",
              "      <td>A172</td>\n",
              "      <td>2</td>\n",
              "      <td>A192</td>\n",
              "      <td>A201</td>\n",
              "      <td>1.0</td>\n",
              "    </tr>\n",
              "  </tbody>\n",
              "</table>\n",
              "</div>"
            ],
            "text/plain": [
              "   A11   6  A34  A43  1169  A65  A75  ...  A152  2  A173  1  A192  A201  1.1\n",
              "0  A12  48  A32  A43  5951  A61  A73  ...  A152  1  A173  1  A191  A201  2.0\n",
              "1  A14  12  A34  A46  2096  A61  A74  ...  A152  1  A172  2  A191  A201  1.0\n",
              "2  A11  42  A32  A42  7882  A61  A74  ...  A153  1  A173  2  A191  A201  1.0\n",
              "3  A11  24  A33  A40  4870  A61  A73  ...  A153  2  A173  2  A191  A201  2.0\n",
              "4  A14  36  A32  A46  9055  A65  A73  ...  A153  1  A172  2  A192  A201  1.0\n",
              "\n",
              "[5 rows x 21 columns]"
            ]
          },
          "metadata": {
            "tags": []
          },
          "execution_count": 10
        }
      ]
    },
    {
      "cell_type": "code",
      "metadata": {
        "id": "ghvahU7YYqYP",
        "colab_type": "code",
        "colab": {}
      },
      "source": [
        "df =data.copy()"
      ],
      "execution_count": 11,
      "outputs": []
    },
    {
      "cell_type": "code",
      "metadata": {
        "id": "56fUesE-YqZJ",
        "colab_type": "code",
        "colab": {
          "base_uri": "https://localhost:8080/",
          "height": 73
        },
        "outputId": "6c74bd04-74b2-44d0-e9cb-737710d52dd3"
      },
      "source": [
        "df.columns.values"
      ],
      "execution_count": 12,
      "outputs": [
        {
          "output_type": "execute_result",
          "data": {
            "text/plain": [
              "array(['A11', '6', 'A34', 'A43', '1169', 'A65', 'A75', '4', 'A93', 'A101',\n",
              "       '4.1', 'A121', '67', 'A143', 'A152', '2', 'A173', '1', 'A192',\n",
              "       'A201', '1.1'], dtype=object)"
            ]
          },
          "metadata": {
            "tags": []
          },
          "execution_count": 12
        }
      ]
    },
    {
      "cell_type": "code",
      "metadata": {
        "id": "j5Z5DPVtYqaJ",
        "colab_type": "code",
        "colab": {}
      },
      "source": [
        "columns = ['Checking_account_status', 'Duration_month','Credit_history','Purpose', 'Credit_amount',  \n",
        "          'Savings_acc_or_bonds','Employment_Duration', 'Installment_rate_in_%_of_disposable_income',\n",
        "          'Personal_status_&_sex','Other_debtors_&_guarantors','Residence_Status', 'Property', 'Age', \n",
        "           'installment_plans','Housing', 'Number_of_existing_credits_at_this_bank','Job',\n",
        "       'Nos_of_dependance', 'Telephone', 'Foreign_worker','Credit_worthiness']"
      ],
      "execution_count": 13,
      "outputs": []
    },
    {
      "cell_type": "code",
      "metadata": {
        "id": "-eVwYiwJYqbA",
        "colab_type": "code",
        "colab": {}
      },
      "source": [
        "df.columns= columns"
      ],
      "execution_count": 14,
      "outputs": []
    },
    {
      "cell_type": "code",
      "metadata": {
        "id": "Ov4rRhllYqb8",
        "colab_type": "code",
        "colab": {}
      },
      "source": [
        "pd.options.display.max_columns=None"
      ],
      "execution_count": 15,
      "outputs": []
    },
    {
      "cell_type": "code",
      "metadata": {
        "id": "nGFnDiL3Yqc6",
        "colab_type": "code",
        "colab": {}
      },
      "source": [
        "df = df.dropna()"
      ],
      "execution_count": 16,
      "outputs": []
    },
    {
      "cell_type": "code",
      "metadata": {
        "id": "JQGbR8SYYqdz",
        "colab_type": "code",
        "colab": {
          "base_uri": "https://localhost:8080/",
          "height": 538
        },
        "outputId": "4b826714-6b6b-42ee-9938-4f3b6b543c04"
      },
      "source": [
        "df.info()"
      ],
      "execution_count": 17,
      "outputs": [
        {
          "output_type": "stream",
          "text": [
            "<class 'pandas.core.frame.DataFrame'>\n",
            "Int64Index: 958 entries, 0 to 998\n",
            "Data columns (total 21 columns):\n",
            " #   Column                                      Non-Null Count  Dtype  \n",
            "---  ------                                      --------------  -----  \n",
            " 0   Checking_account_status                     958 non-null    object \n",
            " 1   Duration_month                              958 non-null    int64  \n",
            " 2   Credit_history                              958 non-null    object \n",
            " 3   Purpose                                     958 non-null    object \n",
            " 4   Credit_amount                               958 non-null    object \n",
            " 5   Savings_acc_or_bonds                        958 non-null    object \n",
            " 6   Employment_Duration                         958 non-null    object \n",
            " 7   Installment_rate_in_%_of_disposable_income  958 non-null    object \n",
            " 8   Personal_status_&_sex                       958 non-null    object \n",
            " 9   Other_debtors_&_guarantors                  958 non-null    object \n",
            " 10  Residence_Status                            958 non-null    object \n",
            " 11  Property                                    958 non-null    object \n",
            " 12  Age                                         958 non-null    object \n",
            " 13  installment_plans                           958 non-null    object \n",
            " 14  Housing                                     958 non-null    object \n",
            " 15  Number_of_existing_credits_at_this_bank     958 non-null    object \n",
            " 16  Job                                         958 non-null    object \n",
            " 17  Nos_of_dependance                           958 non-null    object \n",
            " 18  Telephone                                   958 non-null    object \n",
            " 19  Foreign_worker                              958 non-null    object \n",
            " 20  Credit_worthiness                           958 non-null    float64\n",
            "dtypes: float64(1), int64(1), object(19)\n",
            "memory usage: 164.7+ KB\n"
          ],
          "name": "stdout"
        }
      ]
    },
    {
      "cell_type": "code",
      "metadata": {
        "scrolled": true,
        "id": "a0Jy-IyCYqen",
        "colab_type": "code",
        "colab": {
          "base_uri": "https://localhost:8080/",
          "height": 226
        },
        "outputId": "73a2f8af-3e61-49dd-9e14-35851848da73"
      },
      "source": [
        "df.head()"
      ],
      "execution_count": 18,
      "outputs": [
        {
          "output_type": "execute_result",
          "data": {
            "text/html": [
              "<div>\n",
              "<style scoped>\n",
              "    .dataframe tbody tr th:only-of-type {\n",
              "        vertical-align: middle;\n",
              "    }\n",
              "\n",
              "    .dataframe tbody tr th {\n",
              "        vertical-align: top;\n",
              "    }\n",
              "\n",
              "    .dataframe thead th {\n",
              "        text-align: right;\n",
              "    }\n",
              "</style>\n",
              "<table border=\"1\" class=\"dataframe\">\n",
              "  <thead>\n",
              "    <tr style=\"text-align: right;\">\n",
              "      <th></th>\n",
              "      <th>Checking_account_status</th>\n",
              "      <th>Duration_month</th>\n",
              "      <th>Credit_history</th>\n",
              "      <th>Purpose</th>\n",
              "      <th>Credit_amount</th>\n",
              "      <th>Savings_acc_or_bonds</th>\n",
              "      <th>Employment_Duration</th>\n",
              "      <th>Installment_rate_in_%_of_disposable_income</th>\n",
              "      <th>Personal_status_&amp;_sex</th>\n",
              "      <th>Other_debtors_&amp;_guarantors</th>\n",
              "      <th>Residence_Status</th>\n",
              "      <th>Property</th>\n",
              "      <th>Age</th>\n",
              "      <th>installment_plans</th>\n",
              "      <th>Housing</th>\n",
              "      <th>Number_of_existing_credits_at_this_bank</th>\n",
              "      <th>Job</th>\n",
              "      <th>Nos_of_dependance</th>\n",
              "      <th>Telephone</th>\n",
              "      <th>Foreign_worker</th>\n",
              "      <th>Credit_worthiness</th>\n",
              "    </tr>\n",
              "  </thead>\n",
              "  <tbody>\n",
              "    <tr>\n",
              "      <th>0</th>\n",
              "      <td>A12</td>\n",
              "      <td>48</td>\n",
              "      <td>A32</td>\n",
              "      <td>A43</td>\n",
              "      <td>5951</td>\n",
              "      <td>A61</td>\n",
              "      <td>A73</td>\n",
              "      <td>2</td>\n",
              "      <td>A92</td>\n",
              "      <td>A101</td>\n",
              "      <td>2</td>\n",
              "      <td>A121</td>\n",
              "      <td>22</td>\n",
              "      <td>A143</td>\n",
              "      <td>A152</td>\n",
              "      <td>1</td>\n",
              "      <td>A173</td>\n",
              "      <td>1</td>\n",
              "      <td>A191</td>\n",
              "      <td>A201</td>\n",
              "      <td>2.0</td>\n",
              "    </tr>\n",
              "    <tr>\n",
              "      <th>1</th>\n",
              "      <td>A14</td>\n",
              "      <td>12</td>\n",
              "      <td>A34</td>\n",
              "      <td>A46</td>\n",
              "      <td>2096</td>\n",
              "      <td>A61</td>\n",
              "      <td>A74</td>\n",
              "      <td>2</td>\n",
              "      <td>A93</td>\n",
              "      <td>A101</td>\n",
              "      <td>3</td>\n",
              "      <td>A121</td>\n",
              "      <td>49</td>\n",
              "      <td>A143</td>\n",
              "      <td>A152</td>\n",
              "      <td>1</td>\n",
              "      <td>A172</td>\n",
              "      <td>2</td>\n",
              "      <td>A191</td>\n",
              "      <td>A201</td>\n",
              "      <td>1.0</td>\n",
              "    </tr>\n",
              "    <tr>\n",
              "      <th>2</th>\n",
              "      <td>A11</td>\n",
              "      <td>42</td>\n",
              "      <td>A32</td>\n",
              "      <td>A42</td>\n",
              "      <td>7882</td>\n",
              "      <td>A61</td>\n",
              "      <td>A74</td>\n",
              "      <td>2</td>\n",
              "      <td>A93</td>\n",
              "      <td>A103</td>\n",
              "      <td>4</td>\n",
              "      <td>A122</td>\n",
              "      <td>45</td>\n",
              "      <td>A143</td>\n",
              "      <td>A153</td>\n",
              "      <td>1</td>\n",
              "      <td>A173</td>\n",
              "      <td>2</td>\n",
              "      <td>A191</td>\n",
              "      <td>A201</td>\n",
              "      <td>1.0</td>\n",
              "    </tr>\n",
              "    <tr>\n",
              "      <th>3</th>\n",
              "      <td>A11</td>\n",
              "      <td>24</td>\n",
              "      <td>A33</td>\n",
              "      <td>A40</td>\n",
              "      <td>4870</td>\n",
              "      <td>A61</td>\n",
              "      <td>A73</td>\n",
              "      <td>3</td>\n",
              "      <td>A93</td>\n",
              "      <td>A101</td>\n",
              "      <td>4</td>\n",
              "      <td>A124</td>\n",
              "      <td>53</td>\n",
              "      <td>A143</td>\n",
              "      <td>A153</td>\n",
              "      <td>2</td>\n",
              "      <td>A173</td>\n",
              "      <td>2</td>\n",
              "      <td>A191</td>\n",
              "      <td>A201</td>\n",
              "      <td>2.0</td>\n",
              "    </tr>\n",
              "    <tr>\n",
              "      <th>4</th>\n",
              "      <td>A14</td>\n",
              "      <td>36</td>\n",
              "      <td>A32</td>\n",
              "      <td>A46</td>\n",
              "      <td>9055</td>\n",
              "      <td>A65</td>\n",
              "      <td>A73</td>\n",
              "      <td>2</td>\n",
              "      <td>A93</td>\n",
              "      <td>A101</td>\n",
              "      <td>4</td>\n",
              "      <td>A124</td>\n",
              "      <td>35</td>\n",
              "      <td>A143</td>\n",
              "      <td>A153</td>\n",
              "      <td>1</td>\n",
              "      <td>A172</td>\n",
              "      <td>2</td>\n",
              "      <td>A192</td>\n",
              "      <td>A201</td>\n",
              "      <td>1.0</td>\n",
              "    </tr>\n",
              "  </tbody>\n",
              "</table>\n",
              "</div>"
            ],
            "text/plain": [
              "  Checking_account_status  Duration_month Credit_history Purpose  \\\n",
              "0                     A12              48            A32     A43   \n",
              "1                     A14              12            A34     A46   \n",
              "2                     A11              42            A32     A42   \n",
              "3                     A11              24            A33     A40   \n",
              "4                     A14              36            A32     A46   \n",
              "\n",
              "  Credit_amount Savings_acc_or_bonds Employment_Duration  \\\n",
              "0          5951                  A61                 A73   \n",
              "1          2096                  A61                 A74   \n",
              "2          7882                  A61                 A74   \n",
              "3          4870                  A61                 A73   \n",
              "4          9055                  A65                 A73   \n",
              "\n",
              "  Installment_rate_in_%_of_disposable_income Personal_status_&_sex  \\\n",
              "0                                          2                   A92   \n",
              "1                                          2                   A93   \n",
              "2                                          2                   A93   \n",
              "3                                          3                   A93   \n",
              "4                                          2                   A93   \n",
              "\n",
              "  Other_debtors_&_guarantors Residence_Status Property Age installment_plans  \\\n",
              "0                       A101                2     A121  22              A143   \n",
              "1                       A101                3     A121  49              A143   \n",
              "2                       A103                4     A122  45              A143   \n",
              "3                       A101                4     A124  53              A143   \n",
              "4                       A101                4     A124  35              A143   \n",
              "\n",
              "  Housing Number_of_existing_credits_at_this_bank   Job Nos_of_dependance  \\\n",
              "0    A152                                       1  A173                 1   \n",
              "1    A152                                       1  A172                 2   \n",
              "2    A153                                       1  A173                 2   \n",
              "3    A153                                       2  A173                 2   \n",
              "4    A153                                       1  A172                 2   \n",
              "\n",
              "  Telephone Foreign_worker  Credit_worthiness  \n",
              "0      A191           A201                2.0  \n",
              "1      A191           A201                1.0  \n",
              "2      A191           A201                1.0  \n",
              "3      A191           A201                2.0  \n",
              "4      A192           A201                1.0  "
            ]
          },
          "metadata": {
            "tags": []
          },
          "execution_count": 18
        }
      ]
    },
    {
      "cell_type": "code",
      "metadata": {
        "id": "onBJuJiuYqfw",
        "colab_type": "code",
        "colab": {}
      },
      "source": [
        "Checking_account_status = pd.get_dummies(df['Checking_account_status'])"
      ],
      "execution_count": 19,
      "outputs": []
    },
    {
      "cell_type": "code",
      "metadata": {
        "id": "D0ppLWZPYqgs",
        "colab_type": "code",
        "colab": {
          "base_uri": "https://localhost:8080/",
          "height": 36
        },
        "outputId": "09ec7340-acf2-4d8f-8a0b-3627bd049efa"
      },
      "source": [
        "Checking_account_status.columns.values"
      ],
      "execution_count": 20,
      "outputs": [
        {
          "output_type": "execute_result",
          "data": {
            "text/plain": [
              "array(['A11', 'A12', 'A13', 'A14'], dtype=object)"
            ]
          },
          "metadata": {
            "tags": []
          },
          "execution_count": 20
        }
      ]
    },
    {
      "cell_type": "code",
      "metadata": {
        "id": "mAdIzdPnYqhd",
        "colab_type": "code",
        "colab": {}
      },
      "source": [
        "clumns1=['<_0DM', '<_200DM', '>=_200DM', 'No_checking_account']\n",
        "Checking_account_status.columns=clumns1"
      ],
      "execution_count": 21,
      "outputs": []
    },
    {
      "cell_type": "code",
      "metadata": {
        "id": "RzV394NAYqiF",
        "colab_type": "code",
        "colab": {}
      },
      "source": [
        "Credit_history = pd.get_dummies(df['Credit_history'])\n",
        "Purpose = Checking_account_status = pd.get_dummies(df['Purpose'])\n",
        "Savings = pd.get_dummies(df['Savings_acc_or_bonds'])\n",
        "Employment = pd.get_dummies(df['Employment_Duration'])\n",
        "Personal_status= pd.get_dummies(df['Personal_status_&_sex'])\n",
        "Other = pd.get_dummies(df['Other_debtors_&_guarantors'])\n",
        "Property = pd.get_dummies(df['Property'])\n",
        "installment_plans = pd.get_dummies(df['installment_plans'])\n",
        "Housing = pd.get_dummies(df['Housing'])\n",
        "Job = pd.get_dummies(df['Job'])\n",
        "Telephone = pd.get_dummies(df['Telephone'])\n",
        "Foreign_worker = pd.get_dummies(df['Foreign_worker'])"
      ],
      "execution_count": 22,
      "outputs": []
    },
    {
      "cell_type": "code",
      "metadata": {
        "id": "HKV5HXJ9Yqi_",
        "colab_type": "code",
        "colab": {
          "base_uri": "https://localhost:8080/",
          "height": 36
        },
        "outputId": "95d0b84e-7cc4-46df-a0fb-a782491d6055"
      },
      "source": [
        "Credit_history.columns.values"
      ],
      "execution_count": 23,
      "outputs": [
        {
          "output_type": "execute_result",
          "data": {
            "text/plain": [
              "array(['A30', 'A31', 'A32', 'A33', 'A34'], dtype=object)"
            ]
          },
          "metadata": {
            "tags": []
          },
          "execution_count": 23
        }
      ]
    },
    {
      "cell_type": "code",
      "metadata": {
        "id": "4pNSQzH4Yqjt",
        "colab_type": "code",
        "colab": {}
      },
      "source": [
        "cl = ['no_credits_taken', 'Credits_paid_at_bank', 'Credits_paid_till now',\n",
        "      'delay_in_paying_past_credit','critical_account']"
      ],
      "execution_count": 24,
      "outputs": []
    },
    {
      "cell_type": "code",
      "metadata": {
        "id": "Wv3iA_IxYqkX",
        "colab_type": "code",
        "colab": {}
      },
      "source": [
        "Credit_history.columns = cl"
      ],
      "execution_count": 25,
      "outputs": []
    },
    {
      "cell_type": "code",
      "metadata": {
        "id": "8zK8Ydj6Yqk4",
        "colab_type": "code",
        "colab": {
          "base_uri": "https://localhost:8080/",
          "height": 54
        },
        "outputId": "f1f818da-657d-4e55-b905-9ca2d7931302"
      },
      "source": [
        "Purpose.columns.values"
      ],
      "execution_count": 26,
      "outputs": [
        {
          "output_type": "execute_result",
          "data": {
            "text/plain": [
              "array(['A40', 'A41', 'A410', 'A42', 'A43', 'A44', 'A45', 'A46', 'A48',\n",
              "       'A49'], dtype=object)"
            ]
          },
          "metadata": {
            "tags": []
          },
          "execution_count": 26
        }
      ]
    },
    {
      "cell_type": "code",
      "metadata": {
        "id": "U3aXA5WvYqla",
        "colab_type": "code",
        "colab": {}
      },
      "source": [
        "cl1 = ['car_new', 'car_used', 'others', 'furniture/equipment',\n",
        "       'radio/television', 'domestic_appliances', 'repairs', 'education', 'retraining',\n",
        "       'business']"
      ],
      "execution_count": 27,
      "outputs": []
    },
    {
      "cell_type": "code",
      "metadata": {
        "id": "Ax1jIDWDYql4",
        "colab_type": "code",
        "colab": {}
      },
      "source": [
        "Purpose.columns = cl1"
      ],
      "execution_count": 28,
      "outputs": []
    },
    {
      "cell_type": "code",
      "metadata": {
        "id": "NI-58zA0Yqmi",
        "colab_type": "code",
        "colab": {
          "base_uri": "https://localhost:8080/",
          "height": 73
        },
        "outputId": "60c1cb94-c854-4b59-caad-55088be9701f"
      },
      "source": [
        "Savings.columns.values"
      ],
      "execution_count": 29,
      "outputs": [
        {
          "output_type": "execute_result",
          "data": {
            "text/plain": [
              "array(['0A6', '1A6', '24A', '28A', '2A6', '38A', '3A6', '4A6', '57A',\n",
              "       '5A6', '6A6', '7A6', '82A', '8A6', '9A6', 'A61', 'A62', 'A63',\n",
              "       'A64', 'A65'], dtype=object)"
            ]
          },
          "metadata": {
            "tags": []
          },
          "execution_count": 29
        }
      ]
    },
    {
      "cell_type": "code",
      "metadata": {
        "id": "Vc5AFMjrYqnG",
        "colab_type": "code",
        "colab": {}
      },
      "source": [
        "Savings = Savings.iloc[:,-5:]"
      ],
      "execution_count": 30,
      "outputs": []
    },
    {
      "cell_type": "code",
      "metadata": {
        "id": "ct_flT5eYqnj",
        "colab_type": "code",
        "colab": {
          "base_uri": "https://localhost:8080/",
          "height": 36
        },
        "outputId": "8158e3eb-312e-44d0-a6d4-32788bec972f"
      },
      "source": [
        "Savings.columns.values"
      ],
      "execution_count": 31,
      "outputs": [
        {
          "output_type": "execute_result",
          "data": {
            "text/plain": [
              "array(['A61', 'A62', 'A63', 'A64', 'A65'], dtype=object)"
            ]
          },
          "metadata": {
            "tags": []
          },
          "execution_count": 31
        }
      ]
    },
    {
      "cell_type": "code",
      "metadata": {
        "id": "I9J3airUYqoG",
        "colab_type": "code",
        "colab": {}
      },
      "source": [
        "cl2 = ['<_100DM', '100-500DM', '500-1000DM', '>=1000DM', 'Unknown/no_savings']"
      ],
      "execution_count": 32,
      "outputs": []
    },
    {
      "cell_type": "code",
      "metadata": {
        "id": "htyQ8NJdYqoh",
        "colab_type": "code",
        "colab": {}
      },
      "source": [
        "Savings.columns = cl2"
      ],
      "execution_count": 33,
      "outputs": []
    },
    {
      "cell_type": "code",
      "metadata": {
        "id": "IB0dengOYqo-",
        "colab_type": "code",
        "colab": {
          "base_uri": "https://localhost:8080/",
          "height": 54
        },
        "outputId": "ccad1917-108a-4a4f-f25d-7ca5510aafb1"
      },
      "source": [
        "Employment.columns.values"
      ],
      "execution_count": 34,
      "outputs": [
        {
          "output_type": "execute_result",
          "data": {
            "text/plain": [
              "array(['1A7', '2A7', '3A7', '4A7', '5A7', '61A', '62A', 'A71', 'A72',\n",
              "       'A73', 'A74', 'A75'], dtype=object)"
            ]
          },
          "metadata": {
            "tags": []
          },
          "execution_count": 34
        }
      ]
    },
    {
      "cell_type": "code",
      "metadata": {
        "id": "BJ3v_UL9Yqpe",
        "colab_type": "code",
        "colab": {}
      },
      "source": [
        "Employment = Employment.iloc[:,-5:]"
      ],
      "execution_count": 35,
      "outputs": []
    },
    {
      "cell_type": "code",
      "metadata": {
        "id": "uMtunfqBYqp5",
        "colab_type": "code",
        "colab": {
          "base_uri": "https://localhost:8080/",
          "height": 36
        },
        "outputId": "a3e5cf47-3818-44dd-feaf-5dcb748f63d5"
      },
      "source": [
        "Employment.columns.values"
      ],
      "execution_count": 36,
      "outputs": [
        {
          "output_type": "execute_result",
          "data": {
            "text/plain": [
              "array(['A71', 'A72', 'A73', 'A74', 'A75'], dtype=object)"
            ]
          },
          "metadata": {
            "tags": []
          },
          "execution_count": 36
        }
      ]
    },
    {
      "cell_type": "code",
      "metadata": {
        "id": "sHGt7KO6YqqV",
        "colab_type": "code",
        "colab": {}
      },
      "source": [
        "cl3 = ['unemployed', '<_1', '1-4years', '4-7years', '>=_7years']"
      ],
      "execution_count": 37,
      "outputs": []
    },
    {
      "cell_type": "code",
      "metadata": {
        "id": "RQmu7umMYqqu",
        "colab_type": "code",
        "colab": {}
      },
      "source": [
        "Employment.columns = cl3"
      ],
      "execution_count": 38,
      "outputs": []
    },
    {
      "cell_type": "code",
      "metadata": {
        "id": "GK-X5mUpYqrI",
        "colab_type": "code",
        "colab": {
          "base_uri": "https://localhost:8080/",
          "height": 54
        },
        "outputId": "6bf931b0-ca9f-476c-e09f-2223ea34ea75"
      },
      "source": [
        "Personal_status.columns.values"
      ],
      "execution_count": 39,
      "outputs": [
        {
          "output_type": "execute_result",
          "data": {
            "text/plain": [
              "array(['1:00 AM', '1A9', '2:00 AM', '2A9', '3:00 AM', '3A9', '4A9', 'A91',\n",
              "       'A92', 'A93', 'A94'], dtype=object)"
            ]
          },
          "metadata": {
            "tags": []
          },
          "execution_count": 39
        }
      ]
    },
    {
      "cell_type": "code",
      "metadata": {
        "id": "jzyPujAiYqrh",
        "colab_type": "code",
        "colab": {}
      },
      "source": [
        "Personal_status = Personal_status.iloc[:,-4:]"
      ],
      "execution_count": 40,
      "outputs": []
    },
    {
      "cell_type": "code",
      "metadata": {
        "id": "CaHewILLYqr6",
        "colab_type": "code",
        "colab": {
          "base_uri": "https://localhost:8080/",
          "height": 36
        },
        "outputId": "c3d5df23-54ba-4e0c-8d5b-233406505e98"
      },
      "source": [
        "Personal_status.columns.values"
      ],
      "execution_count": 41,
      "outputs": [
        {
          "output_type": "execute_result",
          "data": {
            "text/plain": [
              "array(['A91', 'A92', 'A93', 'A94'], dtype=object)"
            ]
          },
          "metadata": {
            "tags": []
          },
          "execution_count": 41
        }
      ]
    },
    {
      "cell_type": "code",
      "metadata": {
        "id": "Gwt009-UYqsU",
        "colab_type": "code",
        "colab": {}
      },
      "source": [
        "cl4 = ['male_divorced/separated', 'female_divorced/separated/married', 'male_single',\n",
        "       'male_married/widowed']"
      ],
      "execution_count": 42,
      "outputs": []
    },
    {
      "cell_type": "code",
      "metadata": {
        "id": "qiJniwlbYqsz",
        "colab_type": "code",
        "colab": {}
      },
      "source": [
        "Personal_status.columns = cl4"
      ],
      "execution_count": 43,
      "outputs": []
    },
    {
      "cell_type": "code",
      "metadata": {
        "id": "3kzQuAvnYqtO",
        "colab_type": "code",
        "colab": {
          "base_uri": "https://localhost:8080/",
          "height": 54
        },
        "outputId": "cb32519f-f27d-4534-fc26-4759957a69e6"
      },
      "source": [
        "Other.columns.values"
      ],
      "execution_count": 44,
      "outputs": [
        {
          "output_type": "execute_result",
          "data": {
            "text/plain": [
              "array(['1A10', '2A10', '3A10', '91A1', '92A1', '93A1', 'A101', 'A102',\n",
              "       'A103'], dtype=object)"
            ]
          },
          "metadata": {
            "tags": []
          },
          "execution_count": 44
        }
      ]
    },
    {
      "cell_type": "code",
      "metadata": {
        "id": "24iGL_nvYqto",
        "colab_type": "code",
        "colab": {}
      },
      "source": [
        "Other = Other.iloc[:,-3:]"
      ],
      "execution_count": 45,
      "outputs": []
    },
    {
      "cell_type": "code",
      "metadata": {
        "id": "O0Zs3JipYqt_",
        "colab_type": "code",
        "colab": {
          "base_uri": "https://localhost:8080/",
          "height": 36
        },
        "outputId": "055fa798-1131-4dd5-c58a-79c162141b12"
      },
      "source": [
        "Other.columns.values"
      ],
      "execution_count": 46,
      "outputs": [
        {
          "output_type": "execute_result",
          "data": {
            "text/plain": [
              "array(['A101', 'A102', 'A103'], dtype=object)"
            ]
          },
          "metadata": {
            "tags": []
          },
          "execution_count": 46
        }
      ]
    },
    {
      "cell_type": "code",
      "metadata": {
        "id": "2nbrndkhYquZ",
        "colab_type": "code",
        "colab": {}
      },
      "source": [
        "cl5 = ['none_debtors/guarantors', 'co-applicant', 'guarantor']"
      ],
      "execution_count": 47,
      "outputs": []
    },
    {
      "cell_type": "code",
      "metadata": {
        "id": "tb0-gPs1Yquz",
        "colab_type": "code",
        "colab": {}
      },
      "source": [
        "Other.columns = cl5"
      ],
      "execution_count": 48,
      "outputs": []
    },
    {
      "cell_type": "code",
      "metadata": {
        "id": "6rb9ZArIYqvJ",
        "colab_type": "code",
        "colab": {
          "base_uri": "https://localhost:8080/",
          "height": 54
        },
        "outputId": "2d359ddc-3743-40bc-a7b3-db0a126751e9"
      },
      "source": [
        "Property.columns.values"
      ],
      "execution_count": 49,
      "outputs": [
        {
          "output_type": "execute_result",
          "data": {
            "text/plain": [
              "array(['1A12', '2A1', '2A12', '3A1', '3A12', '4A1', '4A12', 'A121',\n",
              "       'A122', 'A123', 'A124'], dtype=object)"
            ]
          },
          "metadata": {
            "tags": []
          },
          "execution_count": 49
        }
      ]
    },
    {
      "cell_type": "code",
      "metadata": {
        "id": "iN8UaajAYqvk",
        "colab_type": "code",
        "colab": {}
      },
      "source": [
        "Property= Property.iloc[:,-4:]"
      ],
      "execution_count": 50,
      "outputs": []
    },
    {
      "cell_type": "code",
      "metadata": {
        "id": "ey1ZiVcvYqv-",
        "colab_type": "code",
        "colab": {}
      },
      "source": [
        "cl6 = ['real estate','society_savings_agr/life_insurance', 'other_property','unknown/no_property']"
      ],
      "execution_count": 51,
      "outputs": []
    },
    {
      "cell_type": "code",
      "metadata": {
        "id": "ozkfuHWAYqwY",
        "colab_type": "code",
        "colab": {}
      },
      "source": [
        "Property.columns = cl6"
      ],
      "execution_count": 52,
      "outputs": []
    },
    {
      "cell_type": "code",
      "metadata": {
        "id": "bM9yYcujYqxA",
        "colab_type": "code",
        "colab": {
          "base_uri": "https://localhost:8080/",
          "height": 73
        },
        "outputId": "e304faed-5512-468d-be76-ab9b4f0b59f4"
      },
      "source": [
        "installment_plans.columns.values"
      ],
      "execution_count": 53,
      "outputs": [
        {
          "output_type": "execute_result",
          "data": {
            "text/plain": [
              "array(['0A14', '1A14', '29A1', '2A14', '32A1', '39A1', '3A14', '43A1',\n",
              "       '4A14', '5A14', '60A1', '6A14', '7A14', '8A14', '9A14', 'A141',\n",
              "       'A142', 'A143'], dtype=object)"
            ]
          },
          "metadata": {
            "tags": []
          },
          "execution_count": 53
        }
      ]
    },
    {
      "cell_type": "code",
      "metadata": {
        "id": "YXejpAvbYqxZ",
        "colab_type": "code",
        "colab": {}
      },
      "source": [
        "installment_plans= installment_plans.iloc[:,-3:]"
      ],
      "execution_count": 54,
      "outputs": []
    },
    {
      "cell_type": "code",
      "metadata": {
        "id": "k46hrNeDYqxz",
        "colab_type": "code",
        "colab": {
          "base_uri": "https://localhost:8080/",
          "height": 36
        },
        "outputId": "9ec9a0b7-95bf-4b3f-dec2-045f07bd7a81"
      },
      "source": [
        "installment_plans.columns.values"
      ],
      "execution_count": 55,
      "outputs": [
        {
          "output_type": "execute_result",
          "data": {
            "text/plain": [
              "array(['A141', 'A142', 'A143'], dtype=object)"
            ]
          },
          "metadata": {
            "tags": []
          },
          "execution_count": 55
        }
      ]
    },
    {
      "cell_type": "code",
      "metadata": {
        "id": "emDB9dWfYqyQ",
        "colab_type": "code",
        "colab": {}
      },
      "source": [
        "cl7 = ['installment_plan_bank', 'installment_plan_stores', ' none']"
      ],
      "execution_count": 56,
      "outputs": []
    },
    {
      "cell_type": "code",
      "metadata": {
        "id": "efezO3JLYqyp",
        "colab_type": "code",
        "colab": {}
      },
      "source": [
        "installment_plans.columns = cl7"
      ],
      "execution_count": 57,
      "outputs": []
    },
    {
      "cell_type": "code",
      "metadata": {
        "id": "1c2kY-OjYqzN",
        "colab_type": "code",
        "colab": {
          "base_uri": "https://localhost:8080/",
          "height": 54
        },
        "outputId": "c89a1acc-6c96-490f-b90d-a5e4e602ebe9"
      },
      "source": [
        "Housing.columns.values"
      ],
      "execution_count": 58,
      "outputs": [
        {
          "output_type": "execute_result",
          "data": {
            "text/plain": [
              "array(['1A15', '2A15', '3A15', '41A1', '43A1', 'A151', 'A152', 'A153'],\n",
              "      dtype=object)"
            ]
          },
          "metadata": {
            "tags": []
          },
          "execution_count": 58
        }
      ]
    },
    {
      "cell_type": "code",
      "metadata": {
        "id": "OXVhO_zaYqzk",
        "colab_type": "code",
        "colab": {}
      },
      "source": [
        "Housing= Housing.iloc[:,-3:]"
      ],
      "execution_count": 59,
      "outputs": []
    },
    {
      "cell_type": "code",
      "metadata": {
        "id": "DVoqe4ndYqz_",
        "colab_type": "code",
        "colab": {}
      },
      "source": [
        "cl8 = ['housing_rent', 'housing_own','housing_for_free']"
      ],
      "execution_count": 60,
      "outputs": []
    },
    {
      "cell_type": "code",
      "metadata": {
        "scrolled": true,
        "id": "egdByEpkYq0V",
        "colab_type": "code",
        "colab": {}
      },
      "source": [
        "Housing.columns = cl8"
      ],
      "execution_count": 61,
      "outputs": []
    },
    {
      "cell_type": "code",
      "metadata": {
        "id": "WHDWMiofYq0u",
        "colab_type": "code",
        "colab": {
          "base_uri": "https://localhost:8080/",
          "height": 54
        },
        "outputId": "9ca79f5e-bc4b-44d2-f6b1-686291e476b3"
      },
      "source": [
        "Job.columns.values"
      ],
      "execution_count": 62,
      "outputs": [
        {
          "output_type": "execute_result",
          "data": {
            "text/plain": [
              "array(['1A1', '1A17', '2A1', '2A17', '3A17', 'A171', 'A172', 'A173',\n",
              "       'A174'], dtype=object)"
            ]
          },
          "metadata": {
            "tags": []
          },
          "execution_count": 62
        }
      ]
    },
    {
      "cell_type": "code",
      "metadata": {
        "id": "rnFyVohvYq1Q",
        "colab_type": "code",
        "colab": {}
      },
      "source": [
        "Job = Job.iloc[:,-4:]"
      ],
      "execution_count": 63,
      "outputs": []
    },
    {
      "cell_type": "code",
      "metadata": {
        "id": "4LakKId1Yq1p",
        "colab_type": "code",
        "colab": {}
      },
      "source": [
        "cl9 = ['unemployed_non_resident', 'unskilled_resident', 'skilled_employee',\n",
        "       'self-employed_highly_qualified_employee']"
      ],
      "execution_count": 64,
      "outputs": []
    },
    {
      "cell_type": "code",
      "metadata": {
        "id": "_UHjhEslYq1_",
        "colab_type": "code",
        "colab": {}
      },
      "source": [
        "Job.columns = cl9"
      ],
      "execution_count": 65,
      "outputs": []
    },
    {
      "cell_type": "code",
      "metadata": {
        "id": "6tN2i8ajYq2U",
        "colab_type": "code",
        "colab": {
          "base_uri": "https://localhost:8080/",
          "height": 36
        },
        "outputId": "bf77f52d-c9f1-482f-e9f5-cf1bdab0862a"
      },
      "source": [
        "Telephone.columns.values"
      ],
      "execution_count": 66,
      "outputs": [
        {
          "output_type": "execute_result",
          "data": {
            "text/plain": [
              "array(['1A1', '1A19', '2A1', '2A19', 'A191', 'A192'], dtype=object)"
            ]
          },
          "metadata": {
            "tags": []
          },
          "execution_count": 66
        }
      ]
    },
    {
      "cell_type": "code",
      "metadata": {
        "id": "QzsFmPpBYq2s",
        "colab_type": "code",
        "colab": {}
      },
      "source": [
        "Telephone = Telephone.iloc[:,-2:]"
      ],
      "execution_count": 67,
      "outputs": []
    },
    {
      "cell_type": "code",
      "metadata": {
        "id": "BM3D1pzKYq3C",
        "colab_type": "code",
        "colab": {}
      },
      "source": [
        "cl19 = ['telephone_None', 'telephone_Yes']"
      ],
      "execution_count": 68,
      "outputs": []
    },
    {
      "cell_type": "code",
      "metadata": {
        "id": "Q32KaN2HYq3a",
        "colab_type": "code",
        "colab": {}
      },
      "source": [
        "Telephone.columns = cl19"
      ],
      "execution_count": 69,
      "outputs": []
    },
    {
      "cell_type": "code",
      "metadata": {
        "id": "1ua59T2-Yq3z",
        "colab_type": "code",
        "colab": {
          "base_uri": "https://localhost:8080/",
          "height": 36
        },
        "outputId": "244bed90-281e-4121-fc41-17bf63060f80"
      },
      "source": [
        "Foreign_worker.columns.values"
      ],
      "execution_count": 70,
      "outputs": [
        {
          "output_type": "execute_result",
          "data": {
            "text/plain": [
              "array(['1A20', '2A20', '91A2', '92A2', 'A201', 'A202'], dtype=object)"
            ]
          },
          "metadata": {
            "tags": []
          },
          "execution_count": 70
        }
      ]
    },
    {
      "cell_type": "code",
      "metadata": {
        "id": "G9FxlxHAYq4O",
        "colab_type": "code",
        "colab": {}
      },
      "source": [
        "cl20 = ['foreign_Yes', 'foreign_No']"
      ],
      "execution_count": 71,
      "outputs": []
    },
    {
      "cell_type": "code",
      "metadata": {
        "id": "pt5FukTgYq4l",
        "colab_type": "code",
        "colab": {}
      },
      "source": [
        "Foreign_worker = Foreign_worker.iloc[:,-2:]"
      ],
      "execution_count": 72,
      "outputs": []
    },
    {
      "cell_type": "code",
      "metadata": {
        "id": "w-PAIFRjYq46",
        "colab_type": "code",
        "colab": {}
      },
      "source": [
        "Foreign_worker.columns = cl20"
      ],
      "execution_count": 73,
      "outputs": []
    },
    {
      "cell_type": "code",
      "metadata": {
        "id": "jFQtj9ihYq5S",
        "colab_type": "code",
        "colab": {
          "base_uri": "https://localhost:8080/",
          "height": 226
        },
        "outputId": "8e8710aa-7b19-49fc-dbb0-949a0dbc5166"
      },
      "source": [
        "df.head()"
      ],
      "execution_count": 74,
      "outputs": [
        {
          "output_type": "execute_result",
          "data": {
            "text/html": [
              "<div>\n",
              "<style scoped>\n",
              "    .dataframe tbody tr th:only-of-type {\n",
              "        vertical-align: middle;\n",
              "    }\n",
              "\n",
              "    .dataframe tbody tr th {\n",
              "        vertical-align: top;\n",
              "    }\n",
              "\n",
              "    .dataframe thead th {\n",
              "        text-align: right;\n",
              "    }\n",
              "</style>\n",
              "<table border=\"1\" class=\"dataframe\">\n",
              "  <thead>\n",
              "    <tr style=\"text-align: right;\">\n",
              "      <th></th>\n",
              "      <th>Checking_account_status</th>\n",
              "      <th>Duration_month</th>\n",
              "      <th>Credit_history</th>\n",
              "      <th>Purpose</th>\n",
              "      <th>Credit_amount</th>\n",
              "      <th>Savings_acc_or_bonds</th>\n",
              "      <th>Employment_Duration</th>\n",
              "      <th>Installment_rate_in_%_of_disposable_income</th>\n",
              "      <th>Personal_status_&amp;_sex</th>\n",
              "      <th>Other_debtors_&amp;_guarantors</th>\n",
              "      <th>Residence_Status</th>\n",
              "      <th>Property</th>\n",
              "      <th>Age</th>\n",
              "      <th>installment_plans</th>\n",
              "      <th>Housing</th>\n",
              "      <th>Number_of_existing_credits_at_this_bank</th>\n",
              "      <th>Job</th>\n",
              "      <th>Nos_of_dependance</th>\n",
              "      <th>Telephone</th>\n",
              "      <th>Foreign_worker</th>\n",
              "      <th>Credit_worthiness</th>\n",
              "    </tr>\n",
              "  </thead>\n",
              "  <tbody>\n",
              "    <tr>\n",
              "      <th>0</th>\n",
              "      <td>A12</td>\n",
              "      <td>48</td>\n",
              "      <td>A32</td>\n",
              "      <td>A43</td>\n",
              "      <td>5951</td>\n",
              "      <td>A61</td>\n",
              "      <td>A73</td>\n",
              "      <td>2</td>\n",
              "      <td>A92</td>\n",
              "      <td>A101</td>\n",
              "      <td>2</td>\n",
              "      <td>A121</td>\n",
              "      <td>22</td>\n",
              "      <td>A143</td>\n",
              "      <td>A152</td>\n",
              "      <td>1</td>\n",
              "      <td>A173</td>\n",
              "      <td>1</td>\n",
              "      <td>A191</td>\n",
              "      <td>A201</td>\n",
              "      <td>2.0</td>\n",
              "    </tr>\n",
              "    <tr>\n",
              "      <th>1</th>\n",
              "      <td>A14</td>\n",
              "      <td>12</td>\n",
              "      <td>A34</td>\n",
              "      <td>A46</td>\n",
              "      <td>2096</td>\n",
              "      <td>A61</td>\n",
              "      <td>A74</td>\n",
              "      <td>2</td>\n",
              "      <td>A93</td>\n",
              "      <td>A101</td>\n",
              "      <td>3</td>\n",
              "      <td>A121</td>\n",
              "      <td>49</td>\n",
              "      <td>A143</td>\n",
              "      <td>A152</td>\n",
              "      <td>1</td>\n",
              "      <td>A172</td>\n",
              "      <td>2</td>\n",
              "      <td>A191</td>\n",
              "      <td>A201</td>\n",
              "      <td>1.0</td>\n",
              "    </tr>\n",
              "    <tr>\n",
              "      <th>2</th>\n",
              "      <td>A11</td>\n",
              "      <td>42</td>\n",
              "      <td>A32</td>\n",
              "      <td>A42</td>\n",
              "      <td>7882</td>\n",
              "      <td>A61</td>\n",
              "      <td>A74</td>\n",
              "      <td>2</td>\n",
              "      <td>A93</td>\n",
              "      <td>A103</td>\n",
              "      <td>4</td>\n",
              "      <td>A122</td>\n",
              "      <td>45</td>\n",
              "      <td>A143</td>\n",
              "      <td>A153</td>\n",
              "      <td>1</td>\n",
              "      <td>A173</td>\n",
              "      <td>2</td>\n",
              "      <td>A191</td>\n",
              "      <td>A201</td>\n",
              "      <td>1.0</td>\n",
              "    </tr>\n",
              "    <tr>\n",
              "      <th>3</th>\n",
              "      <td>A11</td>\n",
              "      <td>24</td>\n",
              "      <td>A33</td>\n",
              "      <td>A40</td>\n",
              "      <td>4870</td>\n",
              "      <td>A61</td>\n",
              "      <td>A73</td>\n",
              "      <td>3</td>\n",
              "      <td>A93</td>\n",
              "      <td>A101</td>\n",
              "      <td>4</td>\n",
              "      <td>A124</td>\n",
              "      <td>53</td>\n",
              "      <td>A143</td>\n",
              "      <td>A153</td>\n",
              "      <td>2</td>\n",
              "      <td>A173</td>\n",
              "      <td>2</td>\n",
              "      <td>A191</td>\n",
              "      <td>A201</td>\n",
              "      <td>2.0</td>\n",
              "    </tr>\n",
              "    <tr>\n",
              "      <th>4</th>\n",
              "      <td>A14</td>\n",
              "      <td>36</td>\n",
              "      <td>A32</td>\n",
              "      <td>A46</td>\n",
              "      <td>9055</td>\n",
              "      <td>A65</td>\n",
              "      <td>A73</td>\n",
              "      <td>2</td>\n",
              "      <td>A93</td>\n",
              "      <td>A101</td>\n",
              "      <td>4</td>\n",
              "      <td>A124</td>\n",
              "      <td>35</td>\n",
              "      <td>A143</td>\n",
              "      <td>A153</td>\n",
              "      <td>1</td>\n",
              "      <td>A172</td>\n",
              "      <td>2</td>\n",
              "      <td>A192</td>\n",
              "      <td>A201</td>\n",
              "      <td>1.0</td>\n",
              "    </tr>\n",
              "  </tbody>\n",
              "</table>\n",
              "</div>"
            ],
            "text/plain": [
              "  Checking_account_status  Duration_month Credit_history Purpose  \\\n",
              "0                     A12              48            A32     A43   \n",
              "1                     A14              12            A34     A46   \n",
              "2                     A11              42            A32     A42   \n",
              "3                     A11              24            A33     A40   \n",
              "4                     A14              36            A32     A46   \n",
              "\n",
              "  Credit_amount Savings_acc_or_bonds Employment_Duration  \\\n",
              "0          5951                  A61                 A73   \n",
              "1          2096                  A61                 A74   \n",
              "2          7882                  A61                 A74   \n",
              "3          4870                  A61                 A73   \n",
              "4          9055                  A65                 A73   \n",
              "\n",
              "  Installment_rate_in_%_of_disposable_income Personal_status_&_sex  \\\n",
              "0                                          2                   A92   \n",
              "1                                          2                   A93   \n",
              "2                                          2                   A93   \n",
              "3                                          3                   A93   \n",
              "4                                          2                   A93   \n",
              "\n",
              "  Other_debtors_&_guarantors Residence_Status Property Age installment_plans  \\\n",
              "0                       A101                2     A121  22              A143   \n",
              "1                       A101                3     A121  49              A143   \n",
              "2                       A103                4     A122  45              A143   \n",
              "3                       A101                4     A124  53              A143   \n",
              "4                       A101                4     A124  35              A143   \n",
              "\n",
              "  Housing Number_of_existing_credits_at_this_bank   Job Nos_of_dependance  \\\n",
              "0    A152                                       1  A173                 1   \n",
              "1    A152                                       1  A172                 2   \n",
              "2    A153                                       1  A173                 2   \n",
              "3    A153                                       2  A173                 2   \n",
              "4    A153                                       1  A172                 2   \n",
              "\n",
              "  Telephone Foreign_worker  Credit_worthiness  \n",
              "0      A191           A201                2.0  \n",
              "1      A191           A201                1.0  \n",
              "2      A191           A201                1.0  \n",
              "3      A191           A201                2.0  \n",
              "4      A192           A201                1.0  "
            ]
          },
          "metadata": {
            "tags": []
          },
          "execution_count": 74
        }
      ]
    },
    {
      "cell_type": "code",
      "metadata": {
        "id": "-ArgmcsUYq5r",
        "colab_type": "code",
        "colab": {}
      },
      "source": [
        "df = df.drop(['Checking_account_status','Credit_history','Purpose','Credit_amount',\n",
        "             'Savings_acc_or_bonds','Employment_Duration','Personal_status_&_sex',\n",
        "              'Other_debtors_&_guarantors','Property','installment_plans',\n",
        "             'Housing','Job','Telephone','Foreign_worker'], axis =1)"
      ],
      "execution_count": 75,
      "outputs": []
    },
    {
      "cell_type": "code",
      "metadata": {
        "id": "bRvBqR_tYq6F",
        "colab_type": "code",
        "colab": {}
      },
      "source": [
        "df = pd.concat([df,Credit_history, Purpose, Savings, Employment, Personal_status, Other, \n",
        "                Property, installment_plans, Housing, Job, Telephone, Foreign_worker], axis = 1)"
      ],
      "execution_count": 76,
      "outputs": []
    },
    {
      "cell_type": "code",
      "metadata": {
        "id": "TynQf5lKYq6a",
        "colab_type": "code",
        "colab": {
          "base_uri": "https://localhost:8080/",
          "height": 244
        },
        "outputId": "d77dc85a-590a-4934-87ef-db4721773f75"
      },
      "source": [
        "df.head()"
      ],
      "execution_count": 77,
      "outputs": [
        {
          "output_type": "execute_result",
          "data": {
            "text/html": [
              "<div>\n",
              "<style scoped>\n",
              "    .dataframe tbody tr th:only-of-type {\n",
              "        vertical-align: middle;\n",
              "    }\n",
              "\n",
              "    .dataframe tbody tr th {\n",
              "        vertical-align: top;\n",
              "    }\n",
              "\n",
              "    .dataframe thead th {\n",
              "        text-align: right;\n",
              "    }\n",
              "</style>\n",
              "<table border=\"1\" class=\"dataframe\">\n",
              "  <thead>\n",
              "    <tr style=\"text-align: right;\">\n",
              "      <th></th>\n",
              "      <th>Duration_month</th>\n",
              "      <th>Installment_rate_in_%_of_disposable_income</th>\n",
              "      <th>Residence_Status</th>\n",
              "      <th>Age</th>\n",
              "      <th>Number_of_existing_credits_at_this_bank</th>\n",
              "      <th>Nos_of_dependance</th>\n",
              "      <th>Credit_worthiness</th>\n",
              "      <th>no_credits_taken</th>\n",
              "      <th>Credits_paid_at_bank</th>\n",
              "      <th>Credits_paid_till now</th>\n",
              "      <th>delay_in_paying_past_credit</th>\n",
              "      <th>critical_account</th>\n",
              "      <th>car_new</th>\n",
              "      <th>car_used</th>\n",
              "      <th>others</th>\n",
              "      <th>furniture/equipment</th>\n",
              "      <th>radio/television</th>\n",
              "      <th>domestic_appliances</th>\n",
              "      <th>repairs</th>\n",
              "      <th>education</th>\n",
              "      <th>retraining</th>\n",
              "      <th>business</th>\n",
              "      <th>&lt;_100DM</th>\n",
              "      <th>100-500DM</th>\n",
              "      <th>500-1000DM</th>\n",
              "      <th>&gt;=1000DM</th>\n",
              "      <th>Unknown/no_savings</th>\n",
              "      <th>unemployed</th>\n",
              "      <th>&lt;_1</th>\n",
              "      <th>1-4years</th>\n",
              "      <th>4-7years</th>\n",
              "      <th>&gt;=_7years</th>\n",
              "      <th>male_divorced/separated</th>\n",
              "      <th>female_divorced/separated/married</th>\n",
              "      <th>male_single</th>\n",
              "      <th>male_married/widowed</th>\n",
              "      <th>none_debtors/guarantors</th>\n",
              "      <th>co-applicant</th>\n",
              "      <th>guarantor</th>\n",
              "      <th>real estate</th>\n",
              "      <th>society_savings_agr/life_insurance</th>\n",
              "      <th>other_property</th>\n",
              "      <th>unknown/no_property</th>\n",
              "      <th>installment_plan_bank</th>\n",
              "      <th>installment_plan_stores</th>\n",
              "      <th>none</th>\n",
              "      <th>housing_rent</th>\n",
              "      <th>housing_own</th>\n",
              "      <th>housing_for_free</th>\n",
              "      <th>unemployed_non_resident</th>\n",
              "      <th>unskilled_resident</th>\n",
              "      <th>skilled_employee</th>\n",
              "      <th>self-employed_highly_qualified_employee</th>\n",
              "      <th>telephone_None</th>\n",
              "      <th>telephone_Yes</th>\n",
              "      <th>foreign_Yes</th>\n",
              "      <th>foreign_No</th>\n",
              "    </tr>\n",
              "  </thead>\n",
              "  <tbody>\n",
              "    <tr>\n",
              "      <th>0</th>\n",
              "      <td>48</td>\n",
              "      <td>2</td>\n",
              "      <td>2</td>\n",
              "      <td>22</td>\n",
              "      <td>1</td>\n",
              "      <td>1</td>\n",
              "      <td>2.0</td>\n",
              "      <td>0</td>\n",
              "      <td>0</td>\n",
              "      <td>1</td>\n",
              "      <td>0</td>\n",
              "      <td>0</td>\n",
              "      <td>0</td>\n",
              "      <td>0</td>\n",
              "      <td>0</td>\n",
              "      <td>0</td>\n",
              "      <td>1</td>\n",
              "      <td>0</td>\n",
              "      <td>0</td>\n",
              "      <td>0</td>\n",
              "      <td>0</td>\n",
              "      <td>0</td>\n",
              "      <td>1</td>\n",
              "      <td>0</td>\n",
              "      <td>0</td>\n",
              "      <td>0</td>\n",
              "      <td>0</td>\n",
              "      <td>0</td>\n",
              "      <td>0</td>\n",
              "      <td>1</td>\n",
              "      <td>0</td>\n",
              "      <td>0</td>\n",
              "      <td>0</td>\n",
              "      <td>1</td>\n",
              "      <td>0</td>\n",
              "      <td>0</td>\n",
              "      <td>1</td>\n",
              "      <td>0</td>\n",
              "      <td>0</td>\n",
              "      <td>1</td>\n",
              "      <td>0</td>\n",
              "      <td>0</td>\n",
              "      <td>0</td>\n",
              "      <td>0</td>\n",
              "      <td>0</td>\n",
              "      <td>1</td>\n",
              "      <td>0</td>\n",
              "      <td>1</td>\n",
              "      <td>0</td>\n",
              "      <td>0</td>\n",
              "      <td>0</td>\n",
              "      <td>1</td>\n",
              "      <td>0</td>\n",
              "      <td>1</td>\n",
              "      <td>0</td>\n",
              "      <td>1</td>\n",
              "      <td>0</td>\n",
              "    </tr>\n",
              "    <tr>\n",
              "      <th>1</th>\n",
              "      <td>12</td>\n",
              "      <td>2</td>\n",
              "      <td>3</td>\n",
              "      <td>49</td>\n",
              "      <td>1</td>\n",
              "      <td>2</td>\n",
              "      <td>1.0</td>\n",
              "      <td>0</td>\n",
              "      <td>0</td>\n",
              "      <td>0</td>\n",
              "      <td>0</td>\n",
              "      <td>1</td>\n",
              "      <td>0</td>\n",
              "      <td>0</td>\n",
              "      <td>0</td>\n",
              "      <td>0</td>\n",
              "      <td>0</td>\n",
              "      <td>0</td>\n",
              "      <td>0</td>\n",
              "      <td>1</td>\n",
              "      <td>0</td>\n",
              "      <td>0</td>\n",
              "      <td>1</td>\n",
              "      <td>0</td>\n",
              "      <td>0</td>\n",
              "      <td>0</td>\n",
              "      <td>0</td>\n",
              "      <td>0</td>\n",
              "      <td>0</td>\n",
              "      <td>0</td>\n",
              "      <td>1</td>\n",
              "      <td>0</td>\n",
              "      <td>0</td>\n",
              "      <td>0</td>\n",
              "      <td>1</td>\n",
              "      <td>0</td>\n",
              "      <td>1</td>\n",
              "      <td>0</td>\n",
              "      <td>0</td>\n",
              "      <td>1</td>\n",
              "      <td>0</td>\n",
              "      <td>0</td>\n",
              "      <td>0</td>\n",
              "      <td>0</td>\n",
              "      <td>0</td>\n",
              "      <td>1</td>\n",
              "      <td>0</td>\n",
              "      <td>1</td>\n",
              "      <td>0</td>\n",
              "      <td>0</td>\n",
              "      <td>1</td>\n",
              "      <td>0</td>\n",
              "      <td>0</td>\n",
              "      <td>1</td>\n",
              "      <td>0</td>\n",
              "      <td>1</td>\n",
              "      <td>0</td>\n",
              "    </tr>\n",
              "    <tr>\n",
              "      <th>2</th>\n",
              "      <td>42</td>\n",
              "      <td>2</td>\n",
              "      <td>4</td>\n",
              "      <td>45</td>\n",
              "      <td>1</td>\n",
              "      <td>2</td>\n",
              "      <td>1.0</td>\n",
              "      <td>0</td>\n",
              "      <td>0</td>\n",
              "      <td>1</td>\n",
              "      <td>0</td>\n",
              "      <td>0</td>\n",
              "      <td>0</td>\n",
              "      <td>0</td>\n",
              "      <td>0</td>\n",
              "      <td>1</td>\n",
              "      <td>0</td>\n",
              "      <td>0</td>\n",
              "      <td>0</td>\n",
              "      <td>0</td>\n",
              "      <td>0</td>\n",
              "      <td>0</td>\n",
              "      <td>1</td>\n",
              "      <td>0</td>\n",
              "      <td>0</td>\n",
              "      <td>0</td>\n",
              "      <td>0</td>\n",
              "      <td>0</td>\n",
              "      <td>0</td>\n",
              "      <td>0</td>\n",
              "      <td>1</td>\n",
              "      <td>0</td>\n",
              "      <td>0</td>\n",
              "      <td>0</td>\n",
              "      <td>1</td>\n",
              "      <td>0</td>\n",
              "      <td>0</td>\n",
              "      <td>0</td>\n",
              "      <td>1</td>\n",
              "      <td>0</td>\n",
              "      <td>1</td>\n",
              "      <td>0</td>\n",
              "      <td>0</td>\n",
              "      <td>0</td>\n",
              "      <td>0</td>\n",
              "      <td>1</td>\n",
              "      <td>0</td>\n",
              "      <td>0</td>\n",
              "      <td>1</td>\n",
              "      <td>0</td>\n",
              "      <td>0</td>\n",
              "      <td>1</td>\n",
              "      <td>0</td>\n",
              "      <td>1</td>\n",
              "      <td>0</td>\n",
              "      <td>1</td>\n",
              "      <td>0</td>\n",
              "    </tr>\n",
              "    <tr>\n",
              "      <th>3</th>\n",
              "      <td>24</td>\n",
              "      <td>3</td>\n",
              "      <td>4</td>\n",
              "      <td>53</td>\n",
              "      <td>2</td>\n",
              "      <td>2</td>\n",
              "      <td>2.0</td>\n",
              "      <td>0</td>\n",
              "      <td>0</td>\n",
              "      <td>0</td>\n",
              "      <td>1</td>\n",
              "      <td>0</td>\n",
              "      <td>1</td>\n",
              "      <td>0</td>\n",
              "      <td>0</td>\n",
              "      <td>0</td>\n",
              "      <td>0</td>\n",
              "      <td>0</td>\n",
              "      <td>0</td>\n",
              "      <td>0</td>\n",
              "      <td>0</td>\n",
              "      <td>0</td>\n",
              "      <td>1</td>\n",
              "      <td>0</td>\n",
              "      <td>0</td>\n",
              "      <td>0</td>\n",
              "      <td>0</td>\n",
              "      <td>0</td>\n",
              "      <td>0</td>\n",
              "      <td>1</td>\n",
              "      <td>0</td>\n",
              "      <td>0</td>\n",
              "      <td>0</td>\n",
              "      <td>0</td>\n",
              "      <td>1</td>\n",
              "      <td>0</td>\n",
              "      <td>1</td>\n",
              "      <td>0</td>\n",
              "      <td>0</td>\n",
              "      <td>0</td>\n",
              "      <td>0</td>\n",
              "      <td>0</td>\n",
              "      <td>1</td>\n",
              "      <td>0</td>\n",
              "      <td>0</td>\n",
              "      <td>1</td>\n",
              "      <td>0</td>\n",
              "      <td>0</td>\n",
              "      <td>1</td>\n",
              "      <td>0</td>\n",
              "      <td>0</td>\n",
              "      <td>1</td>\n",
              "      <td>0</td>\n",
              "      <td>1</td>\n",
              "      <td>0</td>\n",
              "      <td>1</td>\n",
              "      <td>0</td>\n",
              "    </tr>\n",
              "    <tr>\n",
              "      <th>4</th>\n",
              "      <td>36</td>\n",
              "      <td>2</td>\n",
              "      <td>4</td>\n",
              "      <td>35</td>\n",
              "      <td>1</td>\n",
              "      <td>2</td>\n",
              "      <td>1.0</td>\n",
              "      <td>0</td>\n",
              "      <td>0</td>\n",
              "      <td>1</td>\n",
              "      <td>0</td>\n",
              "      <td>0</td>\n",
              "      <td>0</td>\n",
              "      <td>0</td>\n",
              "      <td>0</td>\n",
              "      <td>0</td>\n",
              "      <td>0</td>\n",
              "      <td>0</td>\n",
              "      <td>0</td>\n",
              "      <td>1</td>\n",
              "      <td>0</td>\n",
              "      <td>0</td>\n",
              "      <td>0</td>\n",
              "      <td>0</td>\n",
              "      <td>0</td>\n",
              "      <td>0</td>\n",
              "      <td>1</td>\n",
              "      <td>0</td>\n",
              "      <td>0</td>\n",
              "      <td>1</td>\n",
              "      <td>0</td>\n",
              "      <td>0</td>\n",
              "      <td>0</td>\n",
              "      <td>0</td>\n",
              "      <td>1</td>\n",
              "      <td>0</td>\n",
              "      <td>1</td>\n",
              "      <td>0</td>\n",
              "      <td>0</td>\n",
              "      <td>0</td>\n",
              "      <td>0</td>\n",
              "      <td>0</td>\n",
              "      <td>1</td>\n",
              "      <td>0</td>\n",
              "      <td>0</td>\n",
              "      <td>1</td>\n",
              "      <td>0</td>\n",
              "      <td>0</td>\n",
              "      <td>1</td>\n",
              "      <td>0</td>\n",
              "      <td>1</td>\n",
              "      <td>0</td>\n",
              "      <td>0</td>\n",
              "      <td>0</td>\n",
              "      <td>1</td>\n",
              "      <td>1</td>\n",
              "      <td>0</td>\n",
              "    </tr>\n",
              "  </tbody>\n",
              "</table>\n",
              "</div>"
            ],
            "text/plain": [
              "   Duration_month Installment_rate_in_%_of_disposable_income Residence_Status  \\\n",
              "0              48                                          2                2   \n",
              "1              12                                          2                3   \n",
              "2              42                                          2                4   \n",
              "3              24                                          3                4   \n",
              "4              36                                          2                4   \n",
              "\n",
              "  Age Number_of_existing_credits_at_this_bank Nos_of_dependance  \\\n",
              "0  22                                       1                 1   \n",
              "1  49                                       1                 2   \n",
              "2  45                                       1                 2   \n",
              "3  53                                       2                 2   \n",
              "4  35                                       1                 2   \n",
              "\n",
              "   Credit_worthiness  no_credits_taken  Credits_paid_at_bank  \\\n",
              "0                2.0                 0                     0   \n",
              "1                1.0                 0                     0   \n",
              "2                1.0                 0                     0   \n",
              "3                2.0                 0                     0   \n",
              "4                1.0                 0                     0   \n",
              "\n",
              "   Credits_paid_till now  delay_in_paying_past_credit  critical_account  \\\n",
              "0                      1                            0                 0   \n",
              "1                      0                            0                 1   \n",
              "2                      1                            0                 0   \n",
              "3                      0                            1                 0   \n",
              "4                      1                            0                 0   \n",
              "\n",
              "   car_new  car_used  others  furniture/equipment  radio/television  \\\n",
              "0        0         0       0                    0                 1   \n",
              "1        0         0       0                    0                 0   \n",
              "2        0         0       0                    1                 0   \n",
              "3        1         0       0                    0                 0   \n",
              "4        0         0       0                    0                 0   \n",
              "\n",
              "   domestic_appliances  repairs  education  retraining  business  <_100DM  \\\n",
              "0                    0        0          0           0         0        1   \n",
              "1                    0        0          1           0         0        1   \n",
              "2                    0        0          0           0         0        1   \n",
              "3                    0        0          0           0         0        1   \n",
              "4                    0        0          1           0         0        0   \n",
              "\n",
              "   100-500DM  500-1000DM  >=1000DM  Unknown/no_savings  unemployed  <_1  \\\n",
              "0          0           0         0                   0           0    0   \n",
              "1          0           0         0                   0           0    0   \n",
              "2          0           0         0                   0           0    0   \n",
              "3          0           0         0                   0           0    0   \n",
              "4          0           0         0                   1           0    0   \n",
              "\n",
              "   1-4years  4-7years  >=_7years  male_divorced/separated  \\\n",
              "0         1         0          0                        0   \n",
              "1         0         1          0                        0   \n",
              "2         0         1          0                        0   \n",
              "3         1         0          0                        0   \n",
              "4         1         0          0                        0   \n",
              "\n",
              "   female_divorced/separated/married  male_single  male_married/widowed  \\\n",
              "0                                  1            0                     0   \n",
              "1                                  0            1                     0   \n",
              "2                                  0            1                     0   \n",
              "3                                  0            1                     0   \n",
              "4                                  0            1                     0   \n",
              "\n",
              "   none_debtors/guarantors  co-applicant  guarantor  real estate  \\\n",
              "0                        1             0          0            1   \n",
              "1                        1             0          0            1   \n",
              "2                        0             0          1            0   \n",
              "3                        1             0          0            0   \n",
              "4                        1             0          0            0   \n",
              "\n",
              "   society_savings_agr/life_insurance  other_property  unknown/no_property  \\\n",
              "0                                   0               0                    0   \n",
              "1                                   0               0                    0   \n",
              "2                                   1               0                    0   \n",
              "3                                   0               0                    1   \n",
              "4                                   0               0                    1   \n",
              "\n",
              "   installment_plan_bank  installment_plan_stores   none  housing_rent  \\\n",
              "0                      0                        0      1             0   \n",
              "1                      0                        0      1             0   \n",
              "2                      0                        0      1             0   \n",
              "3                      0                        0      1             0   \n",
              "4                      0                        0      1             0   \n",
              "\n",
              "   housing_own  housing_for_free  unemployed_non_resident  unskilled_resident  \\\n",
              "0            1                 0                        0                   0   \n",
              "1            1                 0                        0                   1   \n",
              "2            0                 1                        0                   0   \n",
              "3            0                 1                        0                   0   \n",
              "4            0                 1                        0                   1   \n",
              "\n",
              "   skilled_employee  self-employed_highly_qualified_employee  telephone_None  \\\n",
              "0                 1                                        0               1   \n",
              "1                 0                                        0               1   \n",
              "2                 1                                        0               1   \n",
              "3                 1                                        0               1   \n",
              "4                 0                                        0               0   \n",
              "\n",
              "   telephone_Yes  foreign_Yes  foreign_No  \n",
              "0              0            1           0  \n",
              "1              0            1           0  \n",
              "2              0            1           0  \n",
              "3              0            1           0  \n",
              "4              1            1           0  "
            ]
          },
          "metadata": {
            "tags": []
          },
          "execution_count": 77
        }
      ]
    },
    {
      "cell_type": "code",
      "metadata": {
        "id": "lZTvKPuQYq61",
        "colab_type": "code",
        "colab": {}
      },
      "source": [
        "clean_df = df.copy()"
      ],
      "execution_count": 78,
      "outputs": []
    },
    {
      "cell_type": "code",
      "metadata": {
        "id": "otTF7p_8Yq7b",
        "colab_type": "code",
        "colab": {}
      },
      "source": [
        "target = clean_df.iloc[:,6:7]"
      ],
      "execution_count": 79,
      "outputs": []
    },
    {
      "cell_type": "code",
      "metadata": {
        "id": "wzgRe1euYq7w",
        "colab_type": "code",
        "colab": {}
      },
      "source": [
        "featuers = clean_df.drop(['Credit_worthiness'], axis=1)"
      ],
      "execution_count": 80,
      "outputs": []
    },
    {
      "cell_type": "code",
      "metadata": {
        "id": "YAb5S_IwYq9D",
        "colab_type": "code",
        "colab": {}
      },
      "source": [
        "from sklearn.preprocessing import StandardScaler"
      ],
      "execution_count": 81,
      "outputs": []
    },
    {
      "cell_type": "code",
      "metadata": {
        "id": "LHA00zUYYq9W",
        "colab_type": "code",
        "colab": {}
      },
      "source": [
        "from sklearn.model_selection import train_test_split\n",
        "from sklearn.model_selection import cross_val_score\n",
        "from sklearn.ensemble import RandomForestClassifier"
      ],
      "execution_count": 82,
      "outputs": []
    },
    {
      "cell_type": "code",
      "metadata": {
        "scrolled": true,
        "id": "5oIfTRzGYq9q",
        "colab_type": "code",
        "colab": {}
      },
      "source": [
        "scaler = StandardScaler()"
      ],
      "execution_count": 83,
      "outputs": []
    },
    {
      "cell_type": "code",
      "metadata": {
        "id": "GJcmB6PxYq9-",
        "colab_type": "code",
        "colab": {
          "base_uri": "https://localhost:8080/",
          "height": 244
        },
        "outputId": "73262bc3-865e-4567-eb56-f67904bdc69c"
      },
      "source": [
        "clean_df.head()"
      ],
      "execution_count": 84,
      "outputs": [
        {
          "output_type": "execute_result",
          "data": {
            "text/html": [
              "<div>\n",
              "<style scoped>\n",
              "    .dataframe tbody tr th:only-of-type {\n",
              "        vertical-align: middle;\n",
              "    }\n",
              "\n",
              "    .dataframe tbody tr th {\n",
              "        vertical-align: top;\n",
              "    }\n",
              "\n",
              "    .dataframe thead th {\n",
              "        text-align: right;\n",
              "    }\n",
              "</style>\n",
              "<table border=\"1\" class=\"dataframe\">\n",
              "  <thead>\n",
              "    <tr style=\"text-align: right;\">\n",
              "      <th></th>\n",
              "      <th>Duration_month</th>\n",
              "      <th>Installment_rate_in_%_of_disposable_income</th>\n",
              "      <th>Residence_Status</th>\n",
              "      <th>Age</th>\n",
              "      <th>Number_of_existing_credits_at_this_bank</th>\n",
              "      <th>Nos_of_dependance</th>\n",
              "      <th>Credit_worthiness</th>\n",
              "      <th>no_credits_taken</th>\n",
              "      <th>Credits_paid_at_bank</th>\n",
              "      <th>Credits_paid_till now</th>\n",
              "      <th>delay_in_paying_past_credit</th>\n",
              "      <th>critical_account</th>\n",
              "      <th>car_new</th>\n",
              "      <th>car_used</th>\n",
              "      <th>others</th>\n",
              "      <th>furniture/equipment</th>\n",
              "      <th>radio/television</th>\n",
              "      <th>domestic_appliances</th>\n",
              "      <th>repairs</th>\n",
              "      <th>education</th>\n",
              "      <th>retraining</th>\n",
              "      <th>business</th>\n",
              "      <th>&lt;_100DM</th>\n",
              "      <th>100-500DM</th>\n",
              "      <th>500-1000DM</th>\n",
              "      <th>&gt;=1000DM</th>\n",
              "      <th>Unknown/no_savings</th>\n",
              "      <th>unemployed</th>\n",
              "      <th>&lt;_1</th>\n",
              "      <th>1-4years</th>\n",
              "      <th>4-7years</th>\n",
              "      <th>&gt;=_7years</th>\n",
              "      <th>male_divorced/separated</th>\n",
              "      <th>female_divorced/separated/married</th>\n",
              "      <th>male_single</th>\n",
              "      <th>male_married/widowed</th>\n",
              "      <th>none_debtors/guarantors</th>\n",
              "      <th>co-applicant</th>\n",
              "      <th>guarantor</th>\n",
              "      <th>real estate</th>\n",
              "      <th>society_savings_agr/life_insurance</th>\n",
              "      <th>other_property</th>\n",
              "      <th>unknown/no_property</th>\n",
              "      <th>installment_plan_bank</th>\n",
              "      <th>installment_plan_stores</th>\n",
              "      <th>none</th>\n",
              "      <th>housing_rent</th>\n",
              "      <th>housing_own</th>\n",
              "      <th>housing_for_free</th>\n",
              "      <th>unemployed_non_resident</th>\n",
              "      <th>unskilled_resident</th>\n",
              "      <th>skilled_employee</th>\n",
              "      <th>self-employed_highly_qualified_employee</th>\n",
              "      <th>telephone_None</th>\n",
              "      <th>telephone_Yes</th>\n",
              "      <th>foreign_Yes</th>\n",
              "      <th>foreign_No</th>\n",
              "    </tr>\n",
              "  </thead>\n",
              "  <tbody>\n",
              "    <tr>\n",
              "      <th>0</th>\n",
              "      <td>48</td>\n",
              "      <td>2</td>\n",
              "      <td>2</td>\n",
              "      <td>22</td>\n",
              "      <td>1</td>\n",
              "      <td>1</td>\n",
              "      <td>2.0</td>\n",
              "      <td>0</td>\n",
              "      <td>0</td>\n",
              "      <td>1</td>\n",
              "      <td>0</td>\n",
              "      <td>0</td>\n",
              "      <td>0</td>\n",
              "      <td>0</td>\n",
              "      <td>0</td>\n",
              "      <td>0</td>\n",
              "      <td>1</td>\n",
              "      <td>0</td>\n",
              "      <td>0</td>\n",
              "      <td>0</td>\n",
              "      <td>0</td>\n",
              "      <td>0</td>\n",
              "      <td>1</td>\n",
              "      <td>0</td>\n",
              "      <td>0</td>\n",
              "      <td>0</td>\n",
              "      <td>0</td>\n",
              "      <td>0</td>\n",
              "      <td>0</td>\n",
              "      <td>1</td>\n",
              "      <td>0</td>\n",
              "      <td>0</td>\n",
              "      <td>0</td>\n",
              "      <td>1</td>\n",
              "      <td>0</td>\n",
              "      <td>0</td>\n",
              "      <td>1</td>\n",
              "      <td>0</td>\n",
              "      <td>0</td>\n",
              "      <td>1</td>\n",
              "      <td>0</td>\n",
              "      <td>0</td>\n",
              "      <td>0</td>\n",
              "      <td>0</td>\n",
              "      <td>0</td>\n",
              "      <td>1</td>\n",
              "      <td>0</td>\n",
              "      <td>1</td>\n",
              "      <td>0</td>\n",
              "      <td>0</td>\n",
              "      <td>0</td>\n",
              "      <td>1</td>\n",
              "      <td>0</td>\n",
              "      <td>1</td>\n",
              "      <td>0</td>\n",
              "      <td>1</td>\n",
              "      <td>0</td>\n",
              "    </tr>\n",
              "    <tr>\n",
              "      <th>1</th>\n",
              "      <td>12</td>\n",
              "      <td>2</td>\n",
              "      <td>3</td>\n",
              "      <td>49</td>\n",
              "      <td>1</td>\n",
              "      <td>2</td>\n",
              "      <td>1.0</td>\n",
              "      <td>0</td>\n",
              "      <td>0</td>\n",
              "      <td>0</td>\n",
              "      <td>0</td>\n",
              "      <td>1</td>\n",
              "      <td>0</td>\n",
              "      <td>0</td>\n",
              "      <td>0</td>\n",
              "      <td>0</td>\n",
              "      <td>0</td>\n",
              "      <td>0</td>\n",
              "      <td>0</td>\n",
              "      <td>1</td>\n",
              "      <td>0</td>\n",
              "      <td>0</td>\n",
              "      <td>1</td>\n",
              "      <td>0</td>\n",
              "      <td>0</td>\n",
              "      <td>0</td>\n",
              "      <td>0</td>\n",
              "      <td>0</td>\n",
              "      <td>0</td>\n",
              "      <td>0</td>\n",
              "      <td>1</td>\n",
              "      <td>0</td>\n",
              "      <td>0</td>\n",
              "      <td>0</td>\n",
              "      <td>1</td>\n",
              "      <td>0</td>\n",
              "      <td>1</td>\n",
              "      <td>0</td>\n",
              "      <td>0</td>\n",
              "      <td>1</td>\n",
              "      <td>0</td>\n",
              "      <td>0</td>\n",
              "      <td>0</td>\n",
              "      <td>0</td>\n",
              "      <td>0</td>\n",
              "      <td>1</td>\n",
              "      <td>0</td>\n",
              "      <td>1</td>\n",
              "      <td>0</td>\n",
              "      <td>0</td>\n",
              "      <td>1</td>\n",
              "      <td>0</td>\n",
              "      <td>0</td>\n",
              "      <td>1</td>\n",
              "      <td>0</td>\n",
              "      <td>1</td>\n",
              "      <td>0</td>\n",
              "    </tr>\n",
              "    <tr>\n",
              "      <th>2</th>\n",
              "      <td>42</td>\n",
              "      <td>2</td>\n",
              "      <td>4</td>\n",
              "      <td>45</td>\n",
              "      <td>1</td>\n",
              "      <td>2</td>\n",
              "      <td>1.0</td>\n",
              "      <td>0</td>\n",
              "      <td>0</td>\n",
              "      <td>1</td>\n",
              "      <td>0</td>\n",
              "      <td>0</td>\n",
              "      <td>0</td>\n",
              "      <td>0</td>\n",
              "      <td>0</td>\n",
              "      <td>1</td>\n",
              "      <td>0</td>\n",
              "      <td>0</td>\n",
              "      <td>0</td>\n",
              "      <td>0</td>\n",
              "      <td>0</td>\n",
              "      <td>0</td>\n",
              "      <td>1</td>\n",
              "      <td>0</td>\n",
              "      <td>0</td>\n",
              "      <td>0</td>\n",
              "      <td>0</td>\n",
              "      <td>0</td>\n",
              "      <td>0</td>\n",
              "      <td>0</td>\n",
              "      <td>1</td>\n",
              "      <td>0</td>\n",
              "      <td>0</td>\n",
              "      <td>0</td>\n",
              "      <td>1</td>\n",
              "      <td>0</td>\n",
              "      <td>0</td>\n",
              "      <td>0</td>\n",
              "      <td>1</td>\n",
              "      <td>0</td>\n",
              "      <td>1</td>\n",
              "      <td>0</td>\n",
              "      <td>0</td>\n",
              "      <td>0</td>\n",
              "      <td>0</td>\n",
              "      <td>1</td>\n",
              "      <td>0</td>\n",
              "      <td>0</td>\n",
              "      <td>1</td>\n",
              "      <td>0</td>\n",
              "      <td>0</td>\n",
              "      <td>1</td>\n",
              "      <td>0</td>\n",
              "      <td>1</td>\n",
              "      <td>0</td>\n",
              "      <td>1</td>\n",
              "      <td>0</td>\n",
              "    </tr>\n",
              "    <tr>\n",
              "      <th>3</th>\n",
              "      <td>24</td>\n",
              "      <td>3</td>\n",
              "      <td>4</td>\n",
              "      <td>53</td>\n",
              "      <td>2</td>\n",
              "      <td>2</td>\n",
              "      <td>2.0</td>\n",
              "      <td>0</td>\n",
              "      <td>0</td>\n",
              "      <td>0</td>\n",
              "      <td>1</td>\n",
              "      <td>0</td>\n",
              "      <td>1</td>\n",
              "      <td>0</td>\n",
              "      <td>0</td>\n",
              "      <td>0</td>\n",
              "      <td>0</td>\n",
              "      <td>0</td>\n",
              "      <td>0</td>\n",
              "      <td>0</td>\n",
              "      <td>0</td>\n",
              "      <td>0</td>\n",
              "      <td>1</td>\n",
              "      <td>0</td>\n",
              "      <td>0</td>\n",
              "      <td>0</td>\n",
              "      <td>0</td>\n",
              "      <td>0</td>\n",
              "      <td>0</td>\n",
              "      <td>1</td>\n",
              "      <td>0</td>\n",
              "      <td>0</td>\n",
              "      <td>0</td>\n",
              "      <td>0</td>\n",
              "      <td>1</td>\n",
              "      <td>0</td>\n",
              "      <td>1</td>\n",
              "      <td>0</td>\n",
              "      <td>0</td>\n",
              "      <td>0</td>\n",
              "      <td>0</td>\n",
              "      <td>0</td>\n",
              "      <td>1</td>\n",
              "      <td>0</td>\n",
              "      <td>0</td>\n",
              "      <td>1</td>\n",
              "      <td>0</td>\n",
              "      <td>0</td>\n",
              "      <td>1</td>\n",
              "      <td>0</td>\n",
              "      <td>0</td>\n",
              "      <td>1</td>\n",
              "      <td>0</td>\n",
              "      <td>1</td>\n",
              "      <td>0</td>\n",
              "      <td>1</td>\n",
              "      <td>0</td>\n",
              "    </tr>\n",
              "    <tr>\n",
              "      <th>4</th>\n",
              "      <td>36</td>\n",
              "      <td>2</td>\n",
              "      <td>4</td>\n",
              "      <td>35</td>\n",
              "      <td>1</td>\n",
              "      <td>2</td>\n",
              "      <td>1.0</td>\n",
              "      <td>0</td>\n",
              "      <td>0</td>\n",
              "      <td>1</td>\n",
              "      <td>0</td>\n",
              "      <td>0</td>\n",
              "      <td>0</td>\n",
              "      <td>0</td>\n",
              "      <td>0</td>\n",
              "      <td>0</td>\n",
              "      <td>0</td>\n",
              "      <td>0</td>\n",
              "      <td>0</td>\n",
              "      <td>1</td>\n",
              "      <td>0</td>\n",
              "      <td>0</td>\n",
              "      <td>0</td>\n",
              "      <td>0</td>\n",
              "      <td>0</td>\n",
              "      <td>0</td>\n",
              "      <td>1</td>\n",
              "      <td>0</td>\n",
              "      <td>0</td>\n",
              "      <td>1</td>\n",
              "      <td>0</td>\n",
              "      <td>0</td>\n",
              "      <td>0</td>\n",
              "      <td>0</td>\n",
              "      <td>1</td>\n",
              "      <td>0</td>\n",
              "      <td>1</td>\n",
              "      <td>0</td>\n",
              "      <td>0</td>\n",
              "      <td>0</td>\n",
              "      <td>0</td>\n",
              "      <td>0</td>\n",
              "      <td>1</td>\n",
              "      <td>0</td>\n",
              "      <td>0</td>\n",
              "      <td>1</td>\n",
              "      <td>0</td>\n",
              "      <td>0</td>\n",
              "      <td>1</td>\n",
              "      <td>0</td>\n",
              "      <td>1</td>\n",
              "      <td>0</td>\n",
              "      <td>0</td>\n",
              "      <td>0</td>\n",
              "      <td>1</td>\n",
              "      <td>1</td>\n",
              "      <td>0</td>\n",
              "    </tr>\n",
              "  </tbody>\n",
              "</table>\n",
              "</div>"
            ],
            "text/plain": [
              "   Duration_month Installment_rate_in_%_of_disposable_income Residence_Status  \\\n",
              "0              48                                          2                2   \n",
              "1              12                                          2                3   \n",
              "2              42                                          2                4   \n",
              "3              24                                          3                4   \n",
              "4              36                                          2                4   \n",
              "\n",
              "  Age Number_of_existing_credits_at_this_bank Nos_of_dependance  \\\n",
              "0  22                                       1                 1   \n",
              "1  49                                       1                 2   \n",
              "2  45                                       1                 2   \n",
              "3  53                                       2                 2   \n",
              "4  35                                       1                 2   \n",
              "\n",
              "   Credit_worthiness  no_credits_taken  Credits_paid_at_bank  \\\n",
              "0                2.0                 0                     0   \n",
              "1                1.0                 0                     0   \n",
              "2                1.0                 0                     0   \n",
              "3                2.0                 0                     0   \n",
              "4                1.0                 0                     0   \n",
              "\n",
              "   Credits_paid_till now  delay_in_paying_past_credit  critical_account  \\\n",
              "0                      1                            0                 0   \n",
              "1                      0                            0                 1   \n",
              "2                      1                            0                 0   \n",
              "3                      0                            1                 0   \n",
              "4                      1                            0                 0   \n",
              "\n",
              "   car_new  car_used  others  furniture/equipment  radio/television  \\\n",
              "0        0         0       0                    0                 1   \n",
              "1        0         0       0                    0                 0   \n",
              "2        0         0       0                    1                 0   \n",
              "3        1         0       0                    0                 0   \n",
              "4        0         0       0                    0                 0   \n",
              "\n",
              "   domestic_appliances  repairs  education  retraining  business  <_100DM  \\\n",
              "0                    0        0          0           0         0        1   \n",
              "1                    0        0          1           0         0        1   \n",
              "2                    0        0          0           0         0        1   \n",
              "3                    0        0          0           0         0        1   \n",
              "4                    0        0          1           0         0        0   \n",
              "\n",
              "   100-500DM  500-1000DM  >=1000DM  Unknown/no_savings  unemployed  <_1  \\\n",
              "0          0           0         0                   0           0    0   \n",
              "1          0           0         0                   0           0    0   \n",
              "2          0           0         0                   0           0    0   \n",
              "3          0           0         0                   0           0    0   \n",
              "4          0           0         0                   1           0    0   \n",
              "\n",
              "   1-4years  4-7years  >=_7years  male_divorced/separated  \\\n",
              "0         1         0          0                        0   \n",
              "1         0         1          0                        0   \n",
              "2         0         1          0                        0   \n",
              "3         1         0          0                        0   \n",
              "4         1         0          0                        0   \n",
              "\n",
              "   female_divorced/separated/married  male_single  male_married/widowed  \\\n",
              "0                                  1            0                     0   \n",
              "1                                  0            1                     0   \n",
              "2                                  0            1                     0   \n",
              "3                                  0            1                     0   \n",
              "4                                  0            1                     0   \n",
              "\n",
              "   none_debtors/guarantors  co-applicant  guarantor  real estate  \\\n",
              "0                        1             0          0            1   \n",
              "1                        1             0          0            1   \n",
              "2                        0             0          1            0   \n",
              "3                        1             0          0            0   \n",
              "4                        1             0          0            0   \n",
              "\n",
              "   society_savings_agr/life_insurance  other_property  unknown/no_property  \\\n",
              "0                                   0               0                    0   \n",
              "1                                   0               0                    0   \n",
              "2                                   1               0                    0   \n",
              "3                                   0               0                    1   \n",
              "4                                   0               0                    1   \n",
              "\n",
              "   installment_plan_bank  installment_plan_stores   none  housing_rent  \\\n",
              "0                      0                        0      1             0   \n",
              "1                      0                        0      1             0   \n",
              "2                      0                        0      1             0   \n",
              "3                      0                        0      1             0   \n",
              "4                      0                        0      1             0   \n",
              "\n",
              "   housing_own  housing_for_free  unemployed_non_resident  unskilled_resident  \\\n",
              "0            1                 0                        0                   0   \n",
              "1            1                 0                        0                   1   \n",
              "2            0                 1                        0                   0   \n",
              "3            0                 1                        0                   0   \n",
              "4            0                 1                        0                   1   \n",
              "\n",
              "   skilled_employee  self-employed_highly_qualified_employee  telephone_None  \\\n",
              "0                 1                                        0               1   \n",
              "1                 0                                        0               1   \n",
              "2                 1                                        0               1   \n",
              "3                 1                                        0               1   \n",
              "4                 0                                        0               0   \n",
              "\n",
              "   telephone_Yes  foreign_Yes  foreign_No  \n",
              "0              0            1           0  \n",
              "1              0            1           0  \n",
              "2              0            1           0  \n",
              "3              0            1           0  \n",
              "4              1            1           0  "
            ]
          },
          "metadata": {
            "tags": []
          },
          "execution_count": 84
        }
      ]
    },
    {
      "cell_type": "code",
      "metadata": {
        "scrolled": true,
        "id": "u64R4iKeYq-Z",
        "colab_type": "code",
        "colab": {}
      },
      "source": [
        "df_std = scaler.fit_transform(featuers)"
      ],
      "execution_count": 85,
      "outputs": []
    },
    {
      "cell_type": "code",
      "metadata": {
        "id": "fRwhTqUbYq-s",
        "colab_type": "code",
        "colab": {}
      },
      "source": [
        "x_train,x_test,y_train,y_test = train_test_split(featuers, target,random_state=42) "
      ],
      "execution_count": 86,
      "outputs": []
    },
    {
      "cell_type": "code",
      "metadata": {
        "id": "wK_cM9XIYq-_",
        "colab_type": "code",
        "colab": {}
      },
      "source": [
        "import pickle\n",
        "import warnings\n",
        "warnings.filterwarnings('ignore')"
      ],
      "execution_count": 87,
      "outputs": []
    },
    {
      "cell_type": "code",
      "metadata": {
        "scrolled": false,
        "id": "Tgy5CzYNYq_S",
        "colab_type": "code",
        "colab": {}
      },
      "source": [
        "clf = RandomForestClassifier().fit(x_train, y_train)"
      ],
      "execution_count": 88,
      "outputs": []
    },
    {
      "cell_type": "code",
      "metadata": {
        "id": "yQS1GBhSYq_p",
        "colab_type": "code",
        "colab": {}
      },
      "source": [
        "y_pred = clf.predict(x_test)"
      ],
      "execution_count": 89,
      "outputs": []
    },
    {
      "cell_type": "code",
      "metadata": {
        "id": "GfU5r9lhYq_-",
        "colab_type": "code",
        "colab": {}
      },
      "source": [
        "cross_score = cross_val_score(clf,y_test,y_pred, cv=5)"
      ],
      "execution_count": 90,
      "outputs": []
    },
    {
      "cell_type": "code",
      "metadata": {
        "id": "BR5zAqhHYrAZ",
        "colab_type": "code",
        "colab": {
          "base_uri": "https://localhost:8080/",
          "height": 54
        },
        "outputId": "c6aaac00-ce69-4e08-fc1b-fa27a98c5f69"
      },
      "source": [
        "print(cross_score)\n",
        "print('mean: ',np.mean(cross_score))"
      ],
      "execution_count": 91,
      "outputs": [
        {
          "output_type": "stream",
          "text": [
            "[0.83333333 0.83333333 0.83333333 0.79166667 0.79166667]\n",
            "mean:  0.8166666666666667\n"
          ],
          "name": "stdout"
        }
      ]
    },
    {
      "cell_type": "code",
      "metadata": {
        "scrolled": true,
        "id": "Cauz5hD3YrAr",
        "colab_type": "code",
        "colab": {
          "base_uri": "https://localhost:8080/",
          "height": 484
        },
        "outputId": "f05b5a06-7052-48c8-a4c4-c6c52299dc9e"
      },
      "source": [
        "pip install shap"
      ],
      "execution_count": 92,
      "outputs": [
        {
          "output_type": "stream",
          "text": [
            "Collecting shap\n",
            "\u001b[?25l  Downloading https://files.pythonhosted.org/packages/d2/17/37ee6c79cafbd9bb7423b54e55ea90beec66aa7638664d607bcc28de0bae/shap-0.36.0.tar.gz (319kB)\n",
            "\r\u001b[K     |█                               | 10kB 18.6MB/s eta 0:00:01\r\u001b[K     |██                              | 20kB 6.9MB/s eta 0:00:01\r\u001b[K     |███                             | 30kB 7.6MB/s eta 0:00:01\r\u001b[K     |████                            | 40kB 7.8MB/s eta 0:00:01\r\u001b[K     |█████▏                          | 51kB 7.6MB/s eta 0:00:01\r\u001b[K     |██████▏                         | 61kB 8.5MB/s eta 0:00:01\r\u001b[K     |███████▏                        | 71kB 8.8MB/s eta 0:00:01\r\u001b[K     |████████▏                       | 81kB 9.0MB/s eta 0:00:01\r\u001b[K     |█████████▏                      | 92kB 9.5MB/s eta 0:00:01\r\u001b[K     |██████████▎                     | 102kB 9.7MB/s eta 0:00:01\r\u001b[K     |███████████▎                    | 112kB 9.7MB/s eta 0:00:01\r\u001b[K     |████████████▎                   | 122kB 9.7MB/s eta 0:00:01\r\u001b[K     |█████████████▎                  | 133kB 9.7MB/s eta 0:00:01\r\u001b[K     |██████████████▍                 | 143kB 9.7MB/s eta 0:00:01\r\u001b[K     |███████████████▍                | 153kB 9.7MB/s eta 0:00:01\r\u001b[K     |████████████████▍               | 163kB 9.7MB/s eta 0:00:01\r\u001b[K     |█████████████████▍              | 174kB 9.7MB/s eta 0:00:01\r\u001b[K     |██████████████████▍             | 184kB 9.7MB/s eta 0:00:01\r\u001b[K     |███████████████████▌            | 194kB 9.7MB/s eta 0:00:01\r\u001b[K     |████████████████████▌           | 204kB 9.7MB/s eta 0:00:01\r\u001b[K     |█████████████████████▌          | 215kB 9.7MB/s eta 0:00:01\r\u001b[K     |██████████████████████▌         | 225kB 9.7MB/s eta 0:00:01\r\u001b[K     |███████████████████████▋        | 235kB 9.7MB/s eta 0:00:01\r\u001b[K     |████████████████████████▋       | 245kB 9.7MB/s eta 0:00:01\r\u001b[K     |█████████████████████████▋      | 256kB 9.7MB/s eta 0:00:01\r\u001b[K     |██████████████████████████▋     | 266kB 9.7MB/s eta 0:00:01\r\u001b[K     |███████████████████████████▋    | 276kB 9.7MB/s eta 0:00:01\r\u001b[K     |████████████████████████████▊   | 286kB 9.7MB/s eta 0:00:01\r\u001b[K     |█████████████████████████████▊  | 296kB 9.7MB/s eta 0:00:01\r\u001b[K     |██████████████████████████████▊ | 307kB 9.7MB/s eta 0:00:01\r\u001b[K     |███████████████████████████████▊| 317kB 9.7MB/s eta 0:00:01\r\u001b[K     |████████████████████████████████| 327kB 9.7MB/s \n",
            "\u001b[?25hRequirement already satisfied: numpy in /usr/local/lib/python3.6/dist-packages (from shap) (1.18.5)\n",
            "Requirement already satisfied: scipy in /usr/local/lib/python3.6/dist-packages (from shap) (1.4.1)\n",
            "Requirement already satisfied: scikit-learn in /usr/local/lib/python3.6/dist-packages (from shap) (0.22.2.post1)\n",
            "Requirement already satisfied: pandas in /usr/local/lib/python3.6/dist-packages (from shap) (1.0.5)\n",
            "Requirement already satisfied: tqdm>4.25.0 in /usr/local/lib/python3.6/dist-packages (from shap) (4.41.1)\n",
            "Collecting slicer\n",
            "  Downloading https://files.pythonhosted.org/packages/46/cf/f37ac7f61214ed044b0df91252ab19376de5587926c5b572f060eb7bf257/slicer-0.0.4-py3-none-any.whl\n",
            "Requirement already satisfied: numba in /usr/local/lib/python3.6/dist-packages (from shap) (0.48.0)\n",
            "Requirement already satisfied: joblib>=0.11 in /usr/local/lib/python3.6/dist-packages (from scikit-learn->shap) (0.16.0)\n",
            "Requirement already satisfied: pytz>=2017.2 in /usr/local/lib/python3.6/dist-packages (from pandas->shap) (2018.9)\n",
            "Requirement already satisfied: python-dateutil>=2.6.1 in /usr/local/lib/python3.6/dist-packages (from pandas->shap) (2.8.1)\n",
            "Requirement already satisfied: setuptools in /usr/local/lib/python3.6/dist-packages (from numba->shap) (50.3.0)\n",
            "Requirement already satisfied: llvmlite<0.32.0,>=0.31.0dev0 in /usr/local/lib/python3.6/dist-packages (from numba->shap) (0.31.0)\n",
            "Requirement already satisfied: six>=1.5 in /usr/local/lib/python3.6/dist-packages (from python-dateutil>=2.6.1->pandas->shap) (1.15.0)\n",
            "Building wheels for collected packages: shap\n",
            "  Building wheel for shap (setup.py) ... \u001b[?25l\u001b[?25hdone\n",
            "  Created wheel for shap: filename=shap-0.36.0-cp36-cp36m-linux_x86_64.whl size=456462 sha256=f7a3759055aef0a1ba54fe18020754c91d86a11b0d0e57de4f7d64e3699dab06\n",
            "  Stored in directory: /root/.cache/pip/wheels/fb/15/e1/8f61106790da27e0765aaa6e664550ca2c50ea339099e799f4\n",
            "Successfully built shap\n",
            "Installing collected packages: slicer, shap\n",
            "Successfully installed shap-0.36.0 slicer-0.0.4\n"
          ],
          "name": "stdout"
        }
      ]
    },
    {
      "cell_type": "code",
      "metadata": {
        "id": "G7ac2PO9YrA9",
        "colab_type": "code",
        "colab": {}
      },
      "source": [
        "import shap"
      ],
      "execution_count": 93,
      "outputs": []
    },
    {
      "cell_type": "code",
      "metadata": {
        "id": "qDEfHKKsbq-1",
        "colab_type": "code",
        "colab": {}
      },
      "source": [
        "explainer = shap.TreeExplainer(clf)"
      ],
      "execution_count": 107,
      "outputs": []
    },
    {
      "cell_type": "code",
      "metadata": {
        "id": "pGPeNk0QiZU4",
        "colab_type": "code",
        "colab": {}
      },
      "source": [
        "shap_values = explainer.shap_values(x_test)"
      ],
      "execution_count": 108,
      "outputs": []
    },
    {
      "cell_type": "code",
      "metadata": {
        "id": "rD0bbUdYgZkh",
        "colab_type": "code",
        "colab": {
          "base_uri": "https://localhost:8080/",
          "height": 588
        },
        "outputId": "c4a2bc0d-eaf2-492c-bfac-be3c5061eefb"
      },
      "source": [
        "shap.summary_plot(shap_values[1], x_test)"
      ],
      "execution_count": 114,
      "outputs": [
        {
          "output_type": "display_data",
          "data": {
            "image/png": "[encoded data removed]",
            "text/plain": [
              "<Figure size 576x684 with 2 Axes>"
            ]
          },
          "metadata": {
            "tags": [],
            "needs_background": "light"
          }
        }
      ]
    },
    {
      "cell_type": "code",
      "metadata": {
        "id": "tG3NzaedmGnU",
        "colab_type": "code",
        "colab": {
          "base_uri": "https://localhost:8080/",
          "height": 588
        },
        "outputId": "1aafaafc-fb01-45b6-acc1-d76ceb6651fe"
      },
      "source": [
        "shap.summary_plot(shap_values[0], x_test)"
      ],
      "execution_count": 115,
      "outputs": [
        {
          "output_type": "display_data",
          "data": {
            "image/png": "[encoded data removed]",
            "text/plain": [
              "<Figure size 576x684 with 2 Axes>"
            ]
          },
          "metadata": {
            "tags": [],
            "needs_background": "light"
          }
        }
      ]
    },
    {
      "cell_type": "code",
      "metadata": {
        "id": "U-dO_rpZYrBR",
        "colab_type": "code",
        "colab": {}
      },
      "source": [
        "pkl_clf = 'model.pkl'\n",
        "\n",
        "with open(pkl_clf,'wb') as file:\n",
        "    pickle.dump(clf, file)"
      ],
      "execution_count": 94,
      "outputs": []
    },
    {
      "cell_type": "code",
      "metadata": {
        "id": "Q5P36uR2YrBl",
        "colab_type": "code",
        "colab": {}
      },
      "source": [
        "scaler = 'scaler.pkl'\n",
        "\n",
        "with open(scaler,'wb') as file:\n",
        "    pickle.dump(scaler, file)"
      ],
      "execution_count": 95,
      "outputs": []
    },
    {
      "cell_type": "code",
      "metadata": {
        "id": "3ntZdVmWYrB4",
        "colab_type": "code",
        "colab": {}
      },
      "source": [
        ""
      ],
      "execution_count": 95,
      "outputs": []
    }
  ]
}