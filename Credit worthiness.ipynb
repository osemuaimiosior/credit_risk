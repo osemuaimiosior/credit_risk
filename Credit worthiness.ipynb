{
 "cells": [
  {
   "cell_type": "code",
   "execution_count": 1,
   "metadata": {},
   "outputs": [],
   "source": [
    "import pandas as pd\n",
    "import numpy as np\n",
    "import matplotlib.pyplot as plt\n",
    "import seaborn as sns\n",
    "sns.set()"
   ]
  },
  {
   "cell_type": "code",
   "execution_count": 296,
   "metadata": {},
   "outputs": [],
   "source": [
    "data = pd.read_csv('german_data.csv',header=None)"
   ]
  },
  {
   "cell_type": "code",
   "execution_count": 297,
   "metadata": {},
   "outputs": [
    {
     "data": {
      "text/html": [
       "<div>\n",
       "<style scoped>\n",
       "    .dataframe tbody tr th:only-of-type {\n",
       "        vertical-align: middle;\n",
       "    }\n",
       "\n",
       "    .dataframe tbody tr th {\n",
       "        vertical-align: top;\n",
       "    }\n",
       "\n",
       "    .dataframe thead th {\n",
       "        text-align: right;\n",
       "    }\n",
       "</style>\n",
       "<table border=\"1\" class=\"dataframe\">\n",
       "  <thead>\n",
       "    <tr style=\"text-align: right;\">\n",
       "      <th></th>\n",
       "      <th>0</th>\n",
       "      <th>1</th>\n",
       "      <th>2</th>\n",
       "      <th>3</th>\n",
       "      <th>4</th>\n",
       "      <th>5</th>\n",
       "      <th>6</th>\n",
       "      <th>7</th>\n",
       "      <th>8</th>\n",
       "      <th>9</th>\n",
       "      <th>10</th>\n",
       "      <th>11</th>\n",
       "      <th>12</th>\n",
       "      <th>13</th>\n",
       "      <th>14</th>\n",
       "      <th>15</th>\n",
       "      <th>16</th>\n",
       "      <th>17</th>\n",
       "      <th>18</th>\n",
       "      <th>19</th>\n",
       "      <th>20</th>\n",
       "    </tr>\n",
       "  </thead>\n",
       "  <tbody>\n",
       "    <tr>\n",
       "      <th>0</th>\n",
       "      <td>A11</td>\n",
       "      <td>6</td>\n",
       "      <td>A34</td>\n",
       "      <td>A43</td>\n",
       "      <td>1169</td>\n",
       "      <td>A65</td>\n",
       "      <td>A75</td>\n",
       "      <td>4</td>\n",
       "      <td>A93</td>\n",
       "      <td>A101</td>\n",
       "      <td>4</td>\n",
       "      <td>A121</td>\n",
       "      <td>67</td>\n",
       "      <td>A143</td>\n",
       "      <td>A152</td>\n",
       "      <td>2</td>\n",
       "      <td>A173</td>\n",
       "      <td>1</td>\n",
       "      <td>A192</td>\n",
       "      <td>A201</td>\n",
       "      <td>1.0</td>\n",
       "    </tr>\n",
       "    <tr>\n",
       "      <th>1</th>\n",
       "      <td>A12</td>\n",
       "      <td>48</td>\n",
       "      <td>A32</td>\n",
       "      <td>A43</td>\n",
       "      <td>5951</td>\n",
       "      <td>A61</td>\n",
       "      <td>A73</td>\n",
       "      <td>2</td>\n",
       "      <td>A92</td>\n",
       "      <td>A101</td>\n",
       "      <td>2</td>\n",
       "      <td>A121</td>\n",
       "      <td>22</td>\n",
       "      <td>A143</td>\n",
       "      <td>A152</td>\n",
       "      <td>1</td>\n",
       "      <td>A173</td>\n",
       "      <td>1</td>\n",
       "      <td>A191</td>\n",
       "      <td>A201</td>\n",
       "      <td>2.0</td>\n",
       "    </tr>\n",
       "    <tr>\n",
       "      <th>2</th>\n",
       "      <td>A14</td>\n",
       "      <td>12</td>\n",
       "      <td>A34</td>\n",
       "      <td>A46</td>\n",
       "      <td>2096</td>\n",
       "      <td>A61</td>\n",
       "      <td>A74</td>\n",
       "      <td>2</td>\n",
       "      <td>A93</td>\n",
       "      <td>A101</td>\n",
       "      <td>3</td>\n",
       "      <td>A121</td>\n",
       "      <td>49</td>\n",
       "      <td>A143</td>\n",
       "      <td>A152</td>\n",
       "      <td>1</td>\n",
       "      <td>A172</td>\n",
       "      <td>2</td>\n",
       "      <td>A191</td>\n",
       "      <td>A201</td>\n",
       "      <td>1.0</td>\n",
       "    </tr>\n",
       "    <tr>\n",
       "      <th>3</th>\n",
       "      <td>A11</td>\n",
       "      <td>42</td>\n",
       "      <td>A32</td>\n",
       "      <td>A42</td>\n",
       "      <td>7882</td>\n",
       "      <td>A61</td>\n",
       "      <td>A74</td>\n",
       "      <td>2</td>\n",
       "      <td>A93</td>\n",
       "      <td>A103</td>\n",
       "      <td>4</td>\n",
       "      <td>A122</td>\n",
       "      <td>45</td>\n",
       "      <td>A143</td>\n",
       "      <td>A153</td>\n",
       "      <td>1</td>\n",
       "      <td>A173</td>\n",
       "      <td>2</td>\n",
       "      <td>A191</td>\n",
       "      <td>A201</td>\n",
       "      <td>1.0</td>\n",
       "    </tr>\n",
       "    <tr>\n",
       "      <th>4</th>\n",
       "      <td>A11</td>\n",
       "      <td>24</td>\n",
       "      <td>A33</td>\n",
       "      <td>A40</td>\n",
       "      <td>4870</td>\n",
       "      <td>A61</td>\n",
       "      <td>A73</td>\n",
       "      <td>3</td>\n",
       "      <td>A93</td>\n",
       "      <td>A101</td>\n",
       "      <td>4</td>\n",
       "      <td>A124</td>\n",
       "      <td>53</td>\n",
       "      <td>A143</td>\n",
       "      <td>A153</td>\n",
       "      <td>2</td>\n",
       "      <td>A173</td>\n",
       "      <td>2</td>\n",
       "      <td>A191</td>\n",
       "      <td>A201</td>\n",
       "      <td>2.0</td>\n",
       "    </tr>\n",
       "  </tbody>\n",
       "</table>\n",
       "</div>"
      ],
      "text/plain": [
       "    0   1    2    3     4    5    6  7    8     9  10    11  12    13    14  \\\n",
       "0  A11   6  A34  A43  1169  A65  A75  4  A93  A101  4  A121  67  A143  A152   \n",
       "1  A12  48  A32  A43  5951  A61  A73  2  A92  A101  2  A121  22  A143  A152   \n",
       "2  A14  12  A34  A46  2096  A61  A74  2  A93  A101  3  A121  49  A143  A152   \n",
       "3  A11  42  A32  A42  7882  A61  A74  2  A93  A103  4  A122  45  A143  A153   \n",
       "4  A11  24  A33  A40  4870  A61  A73  3  A93  A101  4  A124  53  A143  A153   \n",
       "\n",
       "  15    16 17    18    19   20  \n",
       "0  2  A173  1  A192  A201  1.0  \n",
       "1  1  A173  1  A191  A201  2.0  \n",
       "2  1  A172  2  A191  A201  1.0  \n",
       "3  1  A173  2  A191  A201  1.0  \n",
       "4  2  A173  2  A191  A201  2.0  "
      ]
     },
     "execution_count": 297,
     "metadata": {},
     "output_type": "execute_result"
    }
   ],
   "source": [
    "data.head()"
   ]
  },
  {
   "cell_type": "code",
   "execution_count": 298,
   "metadata": {},
   "outputs": [],
   "source": [
    "df =data.copy()"
   ]
  },
  {
   "cell_type": "code",
   "execution_count": 299,
   "metadata": {},
   "outputs": [
    {
     "data": {
      "text/plain": [
       "array([ 0,  1,  2,  3,  4,  5,  6,  7,  8,  9, 10, 11, 12, 13, 14, 15, 16,\n",
       "       17, 18, 19, 20], dtype=int64)"
      ]
     },
     "execution_count": 299,
     "metadata": {},
     "output_type": "execute_result"
    }
   ],
   "source": [
    "df.columns.values"
   ]
  },
  {
   "cell_type": "code",
   "execution_count": 300,
   "metadata": {},
   "outputs": [],
   "source": [
    "columns = ['Checking_account_status', 'Duration_month','Credit_history','Purpose', 'Credit_amount',  \n",
    "          'Savings_acc_or_bonds','Employment_Duration', 'Installment_rate_in_%_of_disposable_income',\n",
    "          'Personal_status_&_sex','Other_debtors_&_guarantors','Residence_Status', 'Property', 'Age', \n",
    "           'installment_plans','Housing', 'Number_of_existing_credits_at_this_bank','Job',\n",
    "       'Nos_of_dependance', 'Telephone', 'Foreign_worker','Credit_worthiness']"
   ]
  },
  {
   "cell_type": "code",
   "execution_count": 301,
   "metadata": {},
   "outputs": [],
   "source": [
    "df.columns= columns"
   ]
  },
  {
   "cell_type": "code",
   "execution_count": 302,
   "metadata": {},
   "outputs": [],
   "source": [
    "pd.options.display.max_columns=None"
   ]
  },
  {
   "cell_type": "code",
   "execution_count": 303,
   "metadata": {},
   "outputs": [],
   "source": [
    "df = df.dropna()"
   ]
  },
  {
   "cell_type": "code",
   "execution_count": 304,
   "metadata": {},
   "outputs": [
    {
     "name": "stdout",
     "output_type": "stream",
     "text": [
      "<class 'pandas.core.frame.DataFrame'>\n",
      "Int64Index: 959 entries, 0 to 999\n",
      "Data columns (total 21 columns):\n",
      "Checking_account_status                       959 non-null object\n",
      "Duration_month                                959 non-null int64\n",
      "Credit_history                                959 non-null object\n",
      "Purpose                                       959 non-null object\n",
      "Credit_amount                                 959 non-null object\n",
      "Savings_acc_or_bonds                          959 non-null object\n",
      "Employment_Duration                           959 non-null object\n",
      "Installment_rate_in_%_of_disposable_income    959 non-null object\n",
      "Personal_status_&_sex                         959 non-null object\n",
      "Other_debtors_&_guarantors                    959 non-null object\n",
      "Residence_Status                              959 non-null object\n",
      "Property                                      959 non-null object\n",
      "Age                                           959 non-null object\n",
      "installment_plans                             959 non-null object\n",
      "Housing                                       959 non-null object\n",
      "Number_of_existing_credits_at_this_bank       959 non-null object\n",
      "Job                                           959 non-null object\n",
      "Nos_of_dependance                             959 non-null object\n",
      "Telephone                                     959 non-null object\n",
      "Foreign_worker                                959 non-null object\n",
      "Credit_worthiness                             959 non-null float64\n",
      "dtypes: float64(1), int64(1), object(19)\n",
      "memory usage: 93.7+ KB\n"
     ]
    }
   ],
   "source": [
    "df.info()"
   ]
  },
  {
   "cell_type": "code",
   "execution_count": 305,
   "metadata": {
    "scrolled": true
   },
   "outputs": [
    {
     "data": {
      "text/html": [
       "<div>\n",
       "<style scoped>\n",
       "    .dataframe tbody tr th:only-of-type {\n",
       "        vertical-align: middle;\n",
       "    }\n",
       "\n",
       "    .dataframe tbody tr th {\n",
       "        vertical-align: top;\n",
       "    }\n",
       "\n",
       "    .dataframe thead th {\n",
       "        text-align: right;\n",
       "    }\n",
       "</style>\n",
       "<table border=\"1\" class=\"dataframe\">\n",
       "  <thead>\n",
       "    <tr style=\"text-align: right;\">\n",
       "      <th></th>\n",
       "      <th>Checking_account_status</th>\n",
       "      <th>Duration_month</th>\n",
       "      <th>Credit_history</th>\n",
       "      <th>Purpose</th>\n",
       "      <th>Credit_amount</th>\n",
       "      <th>Savings_acc_or_bonds</th>\n",
       "      <th>Employment_Duration</th>\n",
       "      <th>Installment_rate_in_%_of_disposable_income</th>\n",
       "      <th>Personal_status_&amp;_sex</th>\n",
       "      <th>Other_debtors_&amp;_guarantors</th>\n",
       "      <th>Residence_Status</th>\n",
       "      <th>Property</th>\n",
       "      <th>Age</th>\n",
       "      <th>installment_plans</th>\n",
       "      <th>Housing</th>\n",
       "      <th>Number_of_existing_credits_at_this_bank</th>\n",
       "      <th>Job</th>\n",
       "      <th>Nos_of_dependance</th>\n",
       "      <th>Telephone</th>\n",
       "      <th>Foreign_worker</th>\n",
       "      <th>Credit_worthiness</th>\n",
       "    </tr>\n",
       "  </thead>\n",
       "  <tbody>\n",
       "    <tr>\n",
       "      <th>0</th>\n",
       "      <td>A11</td>\n",
       "      <td>6</td>\n",
       "      <td>A34</td>\n",
       "      <td>A43</td>\n",
       "      <td>1169</td>\n",
       "      <td>A65</td>\n",
       "      <td>A75</td>\n",
       "      <td>4</td>\n",
       "      <td>A93</td>\n",
       "      <td>A101</td>\n",
       "      <td>4</td>\n",
       "      <td>A121</td>\n",
       "      <td>67</td>\n",
       "      <td>A143</td>\n",
       "      <td>A152</td>\n",
       "      <td>2</td>\n",
       "      <td>A173</td>\n",
       "      <td>1</td>\n",
       "      <td>A192</td>\n",
       "      <td>A201</td>\n",
       "      <td>1.0</td>\n",
       "    </tr>\n",
       "    <tr>\n",
       "      <th>1</th>\n",
       "      <td>A12</td>\n",
       "      <td>48</td>\n",
       "      <td>A32</td>\n",
       "      <td>A43</td>\n",
       "      <td>5951</td>\n",
       "      <td>A61</td>\n",
       "      <td>A73</td>\n",
       "      <td>2</td>\n",
       "      <td>A92</td>\n",
       "      <td>A101</td>\n",
       "      <td>2</td>\n",
       "      <td>A121</td>\n",
       "      <td>22</td>\n",
       "      <td>A143</td>\n",
       "      <td>A152</td>\n",
       "      <td>1</td>\n",
       "      <td>A173</td>\n",
       "      <td>1</td>\n",
       "      <td>A191</td>\n",
       "      <td>A201</td>\n",
       "      <td>2.0</td>\n",
       "    </tr>\n",
       "    <tr>\n",
       "      <th>2</th>\n",
       "      <td>A14</td>\n",
       "      <td>12</td>\n",
       "      <td>A34</td>\n",
       "      <td>A46</td>\n",
       "      <td>2096</td>\n",
       "      <td>A61</td>\n",
       "      <td>A74</td>\n",
       "      <td>2</td>\n",
       "      <td>A93</td>\n",
       "      <td>A101</td>\n",
       "      <td>3</td>\n",
       "      <td>A121</td>\n",
       "      <td>49</td>\n",
       "      <td>A143</td>\n",
       "      <td>A152</td>\n",
       "      <td>1</td>\n",
       "      <td>A172</td>\n",
       "      <td>2</td>\n",
       "      <td>A191</td>\n",
       "      <td>A201</td>\n",
       "      <td>1.0</td>\n",
       "    </tr>\n",
       "    <tr>\n",
       "      <th>3</th>\n",
       "      <td>A11</td>\n",
       "      <td>42</td>\n",
       "      <td>A32</td>\n",
       "      <td>A42</td>\n",
       "      <td>7882</td>\n",
       "      <td>A61</td>\n",
       "      <td>A74</td>\n",
       "      <td>2</td>\n",
       "      <td>A93</td>\n",
       "      <td>A103</td>\n",
       "      <td>4</td>\n",
       "      <td>A122</td>\n",
       "      <td>45</td>\n",
       "      <td>A143</td>\n",
       "      <td>A153</td>\n",
       "      <td>1</td>\n",
       "      <td>A173</td>\n",
       "      <td>2</td>\n",
       "      <td>A191</td>\n",
       "      <td>A201</td>\n",
       "      <td>1.0</td>\n",
       "    </tr>\n",
       "    <tr>\n",
       "      <th>4</th>\n",
       "      <td>A11</td>\n",
       "      <td>24</td>\n",
       "      <td>A33</td>\n",
       "      <td>A40</td>\n",
       "      <td>4870</td>\n",
       "      <td>A61</td>\n",
       "      <td>A73</td>\n",
       "      <td>3</td>\n",
       "      <td>A93</td>\n",
       "      <td>A101</td>\n",
       "      <td>4</td>\n",
       "      <td>A124</td>\n",
       "      <td>53</td>\n",
       "      <td>A143</td>\n",
       "      <td>A153</td>\n",
       "      <td>2</td>\n",
       "      <td>A173</td>\n",
       "      <td>2</td>\n",
       "      <td>A191</td>\n",
       "      <td>A201</td>\n",
       "      <td>2.0</td>\n",
       "    </tr>\n",
       "  </tbody>\n",
       "</table>\n",
       "</div>"
      ],
      "text/plain": [
       "  Checking_account_status  Duration_month Credit_history Purpose  \\\n",
       "0                     A11               6            A34     A43   \n",
       "1                     A12              48            A32     A43   \n",
       "2                     A14              12            A34     A46   \n",
       "3                     A11              42            A32     A42   \n",
       "4                     A11              24            A33     A40   \n",
       "\n",
       "  Credit_amount Savings_acc_or_bonds Employment_Duration  \\\n",
       "0          1169                  A65                 A75   \n",
       "1          5951                  A61                 A73   \n",
       "2          2096                  A61                 A74   \n",
       "3          7882                  A61                 A74   \n",
       "4          4870                  A61                 A73   \n",
       "\n",
       "  Installment_rate_in_%_of_disposable_income Personal_status_&_sex  \\\n",
       "0                                          4                   A93   \n",
       "1                                          2                   A92   \n",
       "2                                          2                   A93   \n",
       "3                                          2                   A93   \n",
       "4                                          3                   A93   \n",
       "\n",
       "  Other_debtors_&_guarantors Residence_Status Property Age installment_plans  \\\n",
       "0                       A101                4     A121  67              A143   \n",
       "1                       A101                2     A121  22              A143   \n",
       "2                       A101                3     A121  49              A143   \n",
       "3                       A103                4     A122  45              A143   \n",
       "4                       A101                4     A124  53              A143   \n",
       "\n",
       "  Housing Number_of_existing_credits_at_this_bank   Job Nos_of_dependance  \\\n",
       "0    A152                                       2  A173                 1   \n",
       "1    A152                                       1  A173                 1   \n",
       "2    A152                                       1  A172                 2   \n",
       "3    A153                                       1  A173                 2   \n",
       "4    A153                                       2  A173                 2   \n",
       "\n",
       "  Telephone Foreign_worker  Credit_worthiness  \n",
       "0      A192           A201                1.0  \n",
       "1      A191           A201                2.0  \n",
       "2      A191           A201                1.0  \n",
       "3      A191           A201                1.0  \n",
       "4      A191           A201                2.0  "
      ]
     },
     "execution_count": 305,
     "metadata": {},
     "output_type": "execute_result"
    }
   ],
   "source": [
    "df.head()"
   ]
  },
  {
   "cell_type": "code",
   "execution_count": 306,
   "metadata": {},
   "outputs": [],
   "source": [
    "Checking_account_status = pd.get_dummies(df['Checking_account_status'])"
   ]
  },
  {
   "cell_type": "code",
   "execution_count": 307,
   "metadata": {},
   "outputs": [
    {
     "data": {
      "text/plain": [
       "array(['A11', 'A12', 'A13', 'A14'], dtype=object)"
      ]
     },
     "execution_count": 307,
     "metadata": {},
     "output_type": "execute_result"
    }
   ],
   "source": [
    "Checking_account_status.columns.values"
   ]
  },
  {
   "cell_type": "code",
   "execution_count": 308,
   "metadata": {},
   "outputs": [],
   "source": [
    "clumns1=['<_0DM', '<_200DM', '>=_200DM', 'No_checking_account']\n",
    "Checking_account_status.columns=clumns1"
   ]
  },
  {
   "cell_type": "code",
   "execution_count": 309,
   "metadata": {},
   "outputs": [],
   "source": [
    "Credit_history = pd.get_dummies(df['Credit_history'])\n",
    "Purpose = Checking_account_status = pd.get_dummies(df['Purpose'])\n",
    "Savings = pd.get_dummies(df['Savings_acc_or_bonds'])\n",
    "Employment = pd.get_dummies(df['Employment_Duration'])\n",
    "Personal_status= pd.get_dummies(df['Personal_status_&_sex'])\n",
    "Other = pd.get_dummies(df['Other_debtors_&_guarantors'])\n",
    "Property = pd.get_dummies(df['Property'])\n",
    "installment_plans = pd.get_dummies(df['installment_plans'])\n",
    "Housing = pd.get_dummies(df['Housing'])\n",
    "Job = pd.get_dummies(df['Job'])\n",
    "Telephone = pd.get_dummies(df['Telephone'])\n",
    "Foreign_worker = pd.get_dummies(df['Foreign_worker'])"
   ]
  },
  {
   "cell_type": "code",
   "execution_count": 310,
   "metadata": {},
   "outputs": [
    {
     "data": {
      "text/plain": [
       "array(['A30', 'A31', 'A32', 'A33', 'A34'], dtype=object)"
      ]
     },
     "execution_count": 310,
     "metadata": {},
     "output_type": "execute_result"
    }
   ],
   "source": [
    "Credit_history.columns.values"
   ]
  },
  {
   "cell_type": "code",
   "execution_count": 311,
   "metadata": {},
   "outputs": [],
   "source": [
    "cl = ['no_credits_taken', 'Credits_paid_at_bank', 'Credits_paid_till now',\n",
    "      'delay_in_paying_past_credit','critical_account']"
   ]
  },
  {
   "cell_type": "code",
   "execution_count": 312,
   "metadata": {},
   "outputs": [],
   "source": [
    "Credit_history.columns = cl"
   ]
  },
  {
   "cell_type": "code",
   "execution_count": 313,
   "metadata": {},
   "outputs": [
    {
     "data": {
      "text/plain": [
       "array(['A40', 'A41', 'A410', 'A42', 'A43', 'A44', 'A45', 'A46', 'A48',\n",
       "       'A49'], dtype=object)"
      ]
     },
     "execution_count": 313,
     "metadata": {},
     "output_type": "execute_result"
    }
   ],
   "source": [
    "Purpose.columns.values"
   ]
  },
  {
   "cell_type": "code",
   "execution_count": 314,
   "metadata": {},
   "outputs": [],
   "source": [
    "cl1 = ['car_new', 'car_used', 'others', 'furniture/equipment',\n",
    "       'radio/television', 'domestic_appliances', 'repairs', 'education', 'retraining',\n",
    "       'business']"
   ]
  },
  {
   "cell_type": "code",
   "execution_count": 315,
   "metadata": {},
   "outputs": [],
   "source": [
    "Purpose.columns = cl1"
   ]
  },
  {
   "cell_type": "code",
   "execution_count": 316,
   "metadata": {},
   "outputs": [
    {
     "data": {
      "text/plain": [
       "array(['0A6', '1A6', '24A', '28A', '2A6', '38A', '3A6', '4A6', '57A',\n",
       "       '5A6', '6A6', '7A6', '82A', '8A6', '9A6', 'A61', 'A62', 'A63',\n",
       "       'A64', 'A65'], dtype=object)"
      ]
     },
     "execution_count": 316,
     "metadata": {},
     "output_type": "execute_result"
    }
   ],
   "source": [
    "Savings.columns.values"
   ]
  },
  {
   "cell_type": "code",
   "execution_count": 317,
   "metadata": {},
   "outputs": [],
   "source": [
    "Savings = Savings.iloc[:,-5:]"
   ]
  },
  {
   "cell_type": "code",
   "execution_count": 318,
   "metadata": {},
   "outputs": [
    {
     "data": {
      "text/plain": [
       "array(['A61', 'A62', 'A63', 'A64', 'A65'], dtype=object)"
      ]
     },
     "execution_count": 318,
     "metadata": {},
     "output_type": "execute_result"
    }
   ],
   "source": [
    "Savings.columns.values"
   ]
  },
  {
   "cell_type": "code",
   "execution_count": 319,
   "metadata": {},
   "outputs": [],
   "source": [
    "cl2 = ['<_100DM', '100-500DM', '500-1000DM', '>=1000DM', 'Unknown/no_savings']"
   ]
  },
  {
   "cell_type": "code",
   "execution_count": 320,
   "metadata": {},
   "outputs": [],
   "source": [
    "Savings.columns = cl2"
   ]
  },
  {
   "cell_type": "code",
   "execution_count": 321,
   "metadata": {},
   "outputs": [
    {
     "data": {
      "text/plain": [
       "array(['1A7', '2A7', '3A7', '4A7', '5A7', '61A', '62A', 'A71', 'A72',\n",
       "       'A73', 'A74', 'A75'], dtype=object)"
      ]
     },
     "execution_count": 321,
     "metadata": {},
     "output_type": "execute_result"
    }
   ],
   "source": [
    "Employment.columns.values"
   ]
  },
  {
   "cell_type": "code",
   "execution_count": 322,
   "metadata": {},
   "outputs": [],
   "source": [
    "Employment = Employment.iloc[:,-5:]"
   ]
  },
  {
   "cell_type": "code",
   "execution_count": 323,
   "metadata": {},
   "outputs": [
    {
     "data": {
      "text/plain": [
       "array(['A71', 'A72', 'A73', 'A74', 'A75'], dtype=object)"
      ]
     },
     "execution_count": 323,
     "metadata": {},
     "output_type": "execute_result"
    }
   ],
   "source": [
    "Employment.columns.values"
   ]
  },
  {
   "cell_type": "code",
   "execution_count": 324,
   "metadata": {},
   "outputs": [],
   "source": [
    "cl3 = ['unemployed', '<_1', '1-4years', '4-7years', '>=_7years']"
   ]
  },
  {
   "cell_type": "code",
   "execution_count": 325,
   "metadata": {},
   "outputs": [],
   "source": [
    "Employment.columns = cl3"
   ]
  },
  {
   "cell_type": "code",
   "execution_count": 326,
   "metadata": {},
   "outputs": [
    {
     "data": {
      "text/plain": [
       "array(['1:00 AM', '1A9', '2:00 AM', '2A9', '3:00 AM', '3A9', '4A9', 'A91',\n",
       "       'A92', 'A93', 'A94'], dtype=object)"
      ]
     },
     "execution_count": 326,
     "metadata": {},
     "output_type": "execute_result"
    }
   ],
   "source": [
    "Personal_status.columns.values"
   ]
  },
  {
   "cell_type": "code",
   "execution_count": 327,
   "metadata": {},
   "outputs": [],
   "source": [
    "Personal_status = Personal_status.iloc[:,-4:]"
   ]
  },
  {
   "cell_type": "code",
   "execution_count": 328,
   "metadata": {},
   "outputs": [
    {
     "data": {
      "text/plain": [
       "array(['A91', 'A92', 'A93', 'A94'], dtype=object)"
      ]
     },
     "execution_count": 328,
     "metadata": {},
     "output_type": "execute_result"
    }
   ],
   "source": [
    "Personal_status.columns.values"
   ]
  },
  {
   "cell_type": "code",
   "execution_count": 329,
   "metadata": {},
   "outputs": [],
   "source": [
    "cl4 = ['male_divorced/separated', 'female_divorced/separated/married', 'male_single',\n",
    "       'male_married/widowed']"
   ]
  },
  {
   "cell_type": "code",
   "execution_count": 330,
   "metadata": {},
   "outputs": [],
   "source": [
    "Personal_status.columns = cl4"
   ]
  },
  {
   "cell_type": "code",
   "execution_count": 331,
   "metadata": {},
   "outputs": [
    {
     "data": {
      "text/plain": [
       "array(['1A10', '2A10', '3A10', '91A1', '92A1', '93A1', 'A101', 'A102',\n",
       "       'A103'], dtype=object)"
      ]
     },
     "execution_count": 331,
     "metadata": {},
     "output_type": "execute_result"
    }
   ],
   "source": [
    "Other.columns.values"
   ]
  },
  {
   "cell_type": "code",
   "execution_count": 332,
   "metadata": {},
   "outputs": [],
   "source": [
    "Other = Other.iloc[:,-3:]"
   ]
  },
  {
   "cell_type": "code",
   "execution_count": 333,
   "metadata": {},
   "outputs": [
    {
     "data": {
      "text/plain": [
       "array(['A101', 'A102', 'A103'], dtype=object)"
      ]
     },
     "execution_count": 333,
     "metadata": {},
     "output_type": "execute_result"
    }
   ],
   "source": [
    "Other.columns.values"
   ]
  },
  {
   "cell_type": "code",
   "execution_count": 334,
   "metadata": {},
   "outputs": [],
   "source": [
    "cl5 = ['none_debtors/guarantors', 'co-applicant', 'guarantor']"
   ]
  },
  {
   "cell_type": "code",
   "execution_count": 335,
   "metadata": {},
   "outputs": [],
   "source": [
    "Other.columns = cl5"
   ]
  },
  {
   "cell_type": "code",
   "execution_count": 336,
   "metadata": {},
   "outputs": [
    {
     "data": {
      "text/plain": [
       "array(['1A12', '2A1', '2A12', '3A1', '3A12', '4A1', '4A12', 'A121',\n",
       "       'A122', 'A123', 'A124'], dtype=object)"
      ]
     },
     "execution_count": 336,
     "metadata": {},
     "output_type": "execute_result"
    }
   ],
   "source": [
    "Property.columns.values"
   ]
  },
  {
   "cell_type": "code",
   "execution_count": 337,
   "metadata": {},
   "outputs": [],
   "source": [
    "Property= Property.iloc[:,-4:]"
   ]
  },
  {
   "cell_type": "code",
   "execution_count": 338,
   "metadata": {},
   "outputs": [],
   "source": [
    "cl6 = ['real estate','society_savings_agr/life_insurance', 'other_property','unknown/no_property']"
   ]
  },
  {
   "cell_type": "code",
   "execution_count": 339,
   "metadata": {},
   "outputs": [],
   "source": [
    "Property.columns = cl6"
   ]
  },
  {
   "cell_type": "code",
   "execution_count": 340,
   "metadata": {},
   "outputs": [
    {
     "data": {
      "text/plain": [
       "array(['0A14', '1A14', '29A1', '2A14', '32A1', '39A1', '3A14', '43A1',\n",
       "       '4A14', '5A14', '60A1', '6A14', '7A14', '8A14', '9A14', 'A141',\n",
       "       'A142', 'A143'], dtype=object)"
      ]
     },
     "execution_count": 340,
     "metadata": {},
     "output_type": "execute_result"
    }
   ],
   "source": [
    "installment_plans.columns.values"
   ]
  },
  {
   "cell_type": "code",
   "execution_count": 341,
   "metadata": {},
   "outputs": [],
   "source": [
    "installment_plans= installment_plans.iloc[:,-3:]"
   ]
  },
  {
   "cell_type": "code",
   "execution_count": 342,
   "metadata": {},
   "outputs": [
    {
     "data": {
      "text/plain": [
       "array(['A141', 'A142', 'A143'], dtype=object)"
      ]
     },
     "execution_count": 342,
     "metadata": {},
     "output_type": "execute_result"
    }
   ],
   "source": [
    "installment_plans.columns.values"
   ]
  },
  {
   "cell_type": "code",
   "execution_count": 343,
   "metadata": {},
   "outputs": [],
   "source": [
    "cl7 = ['installment_plan_bank', 'installment_plan_stores', ' none']"
   ]
  },
  {
   "cell_type": "code",
   "execution_count": 344,
   "metadata": {},
   "outputs": [],
   "source": [
    "installment_plans.columns = cl7"
   ]
  },
  {
   "cell_type": "code",
   "execution_count": 345,
   "metadata": {},
   "outputs": [
    {
     "data": {
      "text/plain": [
       "array(['1A15', '2A15', '3A15', '41A1', '43A1', 'A151', 'A152', 'A153'],\n",
       "      dtype=object)"
      ]
     },
     "execution_count": 345,
     "metadata": {},
     "output_type": "execute_result"
    }
   ],
   "source": [
    "Housing.columns.values"
   ]
  },
  {
   "cell_type": "code",
   "execution_count": 346,
   "metadata": {},
   "outputs": [],
   "source": [
    "Housing= Housing.iloc[:,-3:]"
   ]
  },
  {
   "cell_type": "code",
   "execution_count": 347,
   "metadata": {},
   "outputs": [],
   "source": [
    "cl8 = ['housing_rent', 'housing_own','housing_for_free']"
   ]
  },
  {
   "cell_type": "code",
   "execution_count": 348,
   "metadata": {
    "scrolled": true
   },
   "outputs": [],
   "source": [
    "Housing.columns = cl8"
   ]
  },
  {
   "cell_type": "code",
   "execution_count": 349,
   "metadata": {},
   "outputs": [
    {
     "data": {
      "text/plain": [
       "array(['1A1', '1A17', '2A1', '2A17', '3A17', 'A171', 'A172', 'A173',\n",
       "       'A174'], dtype=object)"
      ]
     },
     "execution_count": 349,
     "metadata": {},
     "output_type": "execute_result"
    }
   ],
   "source": [
    "Job.columns.values"
   ]
  },
  {
   "cell_type": "code",
   "execution_count": 350,
   "metadata": {},
   "outputs": [],
   "source": [
    "Job = Job.iloc[:,-4:]"
   ]
  },
  {
   "cell_type": "code",
   "execution_count": 351,
   "metadata": {},
   "outputs": [],
   "source": [
    "cl9 = ['unemployed_non_resident', 'unskilled_resident', 'skilled_employee',\n",
    "       'self-employed_highly_qualified_employee']"
   ]
  },
  {
   "cell_type": "code",
   "execution_count": 352,
   "metadata": {},
   "outputs": [],
   "source": [
    "Job.columns = cl9"
   ]
  },
  {
   "cell_type": "code",
   "execution_count": 353,
   "metadata": {},
   "outputs": [
    {
     "data": {
      "text/plain": [
       "array(['1A1', '1A19', '2A1', '2A19', 'A191', 'A192'], dtype=object)"
      ]
     },
     "execution_count": 353,
     "metadata": {},
     "output_type": "execute_result"
    }
   ],
   "source": [
    "Telephone.columns.values"
   ]
  },
  {
   "cell_type": "code",
   "execution_count": 354,
   "metadata": {},
   "outputs": [],
   "source": [
    "Telephone = Telephone.iloc[:,-2:]"
   ]
  },
  {
   "cell_type": "code",
   "execution_count": 355,
   "metadata": {},
   "outputs": [],
   "source": [
    "cl19 = ['telephone_None', 'telephone_Yes']"
   ]
  },
  {
   "cell_type": "code",
   "execution_count": 356,
   "metadata": {},
   "outputs": [],
   "source": [
    "Telephone.columns = cl19"
   ]
  },
  {
   "cell_type": "code",
   "execution_count": 357,
   "metadata": {},
   "outputs": [
    {
     "data": {
      "text/plain": [
       "array(['1A20', '2A20', '91A2', '92A2', 'A201', 'A202'], dtype=object)"
      ]
     },
     "execution_count": 357,
     "metadata": {},
     "output_type": "execute_result"
    }
   ],
   "source": [
    "Foreign_worker.columns.values"
   ]
  },
  {
   "cell_type": "code",
   "execution_count": 358,
   "metadata": {},
   "outputs": [],
   "source": [
    "cl20 = ['foreign_Yes', 'foreign_No']"
   ]
  },
  {
   "cell_type": "code",
   "execution_count": 359,
   "metadata": {},
   "outputs": [],
   "source": [
    "Foreign_worker = Foreign_worker.iloc[:,-2:]"
   ]
  },
  {
   "cell_type": "code",
   "execution_count": 360,
   "metadata": {},
   "outputs": [],
   "source": [
    "Foreign_worker.columns = cl20"
   ]
  },
  {
   "cell_type": "code",
   "execution_count": 361,
   "metadata": {},
   "outputs": [
    {
     "data": {
      "text/html": [
       "<div>\n",
       "<style scoped>\n",
       "    .dataframe tbody tr th:only-of-type {\n",
       "        vertical-align: middle;\n",
       "    }\n",
       "\n",
       "    .dataframe tbody tr th {\n",
       "        vertical-align: top;\n",
       "    }\n",
       "\n",
       "    .dataframe thead th {\n",
       "        text-align: right;\n",
       "    }\n",
       "</style>\n",
       "<table border=\"1\" class=\"dataframe\">\n",
       "  <thead>\n",
       "    <tr style=\"text-align: right;\">\n",
       "      <th></th>\n",
       "      <th>Checking_account_status</th>\n",
       "      <th>Duration_month</th>\n",
       "      <th>Credit_history</th>\n",
       "      <th>Purpose</th>\n",
       "      <th>Credit_amount</th>\n",
       "      <th>Savings_acc_or_bonds</th>\n",
       "      <th>Employment_Duration</th>\n",
       "      <th>Installment_rate_in_%_of_disposable_income</th>\n",
       "      <th>Personal_status_&amp;_sex</th>\n",
       "      <th>Other_debtors_&amp;_guarantors</th>\n",
       "      <th>Residence_Status</th>\n",
       "      <th>Property</th>\n",
       "      <th>Age</th>\n",
       "      <th>installment_plans</th>\n",
       "      <th>Housing</th>\n",
       "      <th>Number_of_existing_credits_at_this_bank</th>\n",
       "      <th>Job</th>\n",
       "      <th>Nos_of_dependance</th>\n",
       "      <th>Telephone</th>\n",
       "      <th>Foreign_worker</th>\n",
       "      <th>Credit_worthiness</th>\n",
       "    </tr>\n",
       "  </thead>\n",
       "  <tbody>\n",
       "    <tr>\n",
       "      <th>0</th>\n",
       "      <td>A11</td>\n",
       "      <td>6</td>\n",
       "      <td>A34</td>\n",
       "      <td>A43</td>\n",
       "      <td>1169</td>\n",
       "      <td>A65</td>\n",
       "      <td>A75</td>\n",
       "      <td>4</td>\n",
       "      <td>A93</td>\n",
       "      <td>A101</td>\n",
       "      <td>4</td>\n",
       "      <td>A121</td>\n",
       "      <td>67</td>\n",
       "      <td>A143</td>\n",
       "      <td>A152</td>\n",
       "      <td>2</td>\n",
       "      <td>A173</td>\n",
       "      <td>1</td>\n",
       "      <td>A192</td>\n",
       "      <td>A201</td>\n",
       "      <td>1.0</td>\n",
       "    </tr>\n",
       "    <tr>\n",
       "      <th>1</th>\n",
       "      <td>A12</td>\n",
       "      <td>48</td>\n",
       "      <td>A32</td>\n",
       "      <td>A43</td>\n",
       "      <td>5951</td>\n",
       "      <td>A61</td>\n",
       "      <td>A73</td>\n",
       "      <td>2</td>\n",
       "      <td>A92</td>\n",
       "      <td>A101</td>\n",
       "      <td>2</td>\n",
       "      <td>A121</td>\n",
       "      <td>22</td>\n",
       "      <td>A143</td>\n",
       "      <td>A152</td>\n",
       "      <td>1</td>\n",
       "      <td>A173</td>\n",
       "      <td>1</td>\n",
       "      <td>A191</td>\n",
       "      <td>A201</td>\n",
       "      <td>2.0</td>\n",
       "    </tr>\n",
       "    <tr>\n",
       "      <th>2</th>\n",
       "      <td>A14</td>\n",
       "      <td>12</td>\n",
       "      <td>A34</td>\n",
       "      <td>A46</td>\n",
       "      <td>2096</td>\n",
       "      <td>A61</td>\n",
       "      <td>A74</td>\n",
       "      <td>2</td>\n",
       "      <td>A93</td>\n",
       "      <td>A101</td>\n",
       "      <td>3</td>\n",
       "      <td>A121</td>\n",
       "      <td>49</td>\n",
       "      <td>A143</td>\n",
       "      <td>A152</td>\n",
       "      <td>1</td>\n",
       "      <td>A172</td>\n",
       "      <td>2</td>\n",
       "      <td>A191</td>\n",
       "      <td>A201</td>\n",
       "      <td>1.0</td>\n",
       "    </tr>\n",
       "    <tr>\n",
       "      <th>3</th>\n",
       "      <td>A11</td>\n",
       "      <td>42</td>\n",
       "      <td>A32</td>\n",
       "      <td>A42</td>\n",
       "      <td>7882</td>\n",
       "      <td>A61</td>\n",
       "      <td>A74</td>\n",
       "      <td>2</td>\n",
       "      <td>A93</td>\n",
       "      <td>A103</td>\n",
       "      <td>4</td>\n",
       "      <td>A122</td>\n",
       "      <td>45</td>\n",
       "      <td>A143</td>\n",
       "      <td>A153</td>\n",
       "      <td>1</td>\n",
       "      <td>A173</td>\n",
       "      <td>2</td>\n",
       "      <td>A191</td>\n",
       "      <td>A201</td>\n",
       "      <td>1.0</td>\n",
       "    </tr>\n",
       "    <tr>\n",
       "      <th>4</th>\n",
       "      <td>A11</td>\n",
       "      <td>24</td>\n",
       "      <td>A33</td>\n",
       "      <td>A40</td>\n",
       "      <td>4870</td>\n",
       "      <td>A61</td>\n",
       "      <td>A73</td>\n",
       "      <td>3</td>\n",
       "      <td>A93</td>\n",
       "      <td>A101</td>\n",
       "      <td>4</td>\n",
       "      <td>A124</td>\n",
       "      <td>53</td>\n",
       "      <td>A143</td>\n",
       "      <td>A153</td>\n",
       "      <td>2</td>\n",
       "      <td>A173</td>\n",
       "      <td>2</td>\n",
       "      <td>A191</td>\n",
       "      <td>A201</td>\n",
       "      <td>2.0</td>\n",
       "    </tr>\n",
       "  </tbody>\n",
       "</table>\n",
       "</div>"
      ],
      "text/plain": [
       "  Checking_account_status  Duration_month Credit_history Purpose  \\\n",
       "0                     A11               6            A34     A43   \n",
       "1                     A12              48            A32     A43   \n",
       "2                     A14              12            A34     A46   \n",
       "3                     A11              42            A32     A42   \n",
       "4                     A11              24            A33     A40   \n",
       "\n",
       "  Credit_amount Savings_acc_or_bonds Employment_Duration  \\\n",
       "0          1169                  A65                 A75   \n",
       "1          5951                  A61                 A73   \n",
       "2          2096                  A61                 A74   \n",
       "3          7882                  A61                 A74   \n",
       "4          4870                  A61                 A73   \n",
       "\n",
       "  Installment_rate_in_%_of_disposable_income Personal_status_&_sex  \\\n",
       "0                                          4                   A93   \n",
       "1                                          2                   A92   \n",
       "2                                          2                   A93   \n",
       "3                                          2                   A93   \n",
       "4                                          3                   A93   \n",
       "\n",
       "  Other_debtors_&_guarantors Residence_Status Property Age installment_plans  \\\n",
       "0                       A101                4     A121  67              A143   \n",
       "1                       A101                2     A121  22              A143   \n",
       "2                       A101                3     A121  49              A143   \n",
       "3                       A103                4     A122  45              A143   \n",
       "4                       A101                4     A124  53              A143   \n",
       "\n",
       "  Housing Number_of_existing_credits_at_this_bank   Job Nos_of_dependance  \\\n",
       "0    A152                                       2  A173                 1   \n",
       "1    A152                                       1  A173                 1   \n",
       "2    A152                                       1  A172                 2   \n",
       "3    A153                                       1  A173                 2   \n",
       "4    A153                                       2  A173                 2   \n",
       "\n",
       "  Telephone Foreign_worker  Credit_worthiness  \n",
       "0      A192           A201                1.0  \n",
       "1      A191           A201                2.0  \n",
       "2      A191           A201                1.0  \n",
       "3      A191           A201                1.0  \n",
       "4      A191           A201                2.0  "
      ]
     },
     "execution_count": 361,
     "metadata": {},
     "output_type": "execute_result"
    }
   ],
   "source": [
    "df.head()"
   ]
  },
  {
   "cell_type": "code",
   "execution_count": 362,
   "metadata": {},
   "outputs": [],
   "source": [
    "df = df.drop(['Checking_account_status','Credit_history','Purpose','Credit_amount',\n",
    "             'Savings_acc_or_bonds','Employment_Duration','Personal_status_&_sex',\n",
    "              'Other_debtors_&_guarantors','Property','installment_plans',\n",
    "             'Housing','Job','Telephone','Foreign_worker'], axis =1)"
   ]
  },
  {
   "cell_type": "code",
   "execution_count": 363,
   "metadata": {},
   "outputs": [],
   "source": [
    "df = pd.concat([df,Credit_history, Purpose, Savings, Employment, Personal_status, Other, \n",
    "                Property, installment_plans, Housing, Job, Telephone, Foreign_worker], axis = 1)"
   ]
  },
  {
   "cell_type": "code",
   "execution_count": 364,
   "metadata": {},
   "outputs": [
    {
     "data": {
      "text/html": [
       "<div>\n",
       "<style scoped>\n",
       "    .dataframe tbody tr th:only-of-type {\n",
       "        vertical-align: middle;\n",
       "    }\n",
       "\n",
       "    .dataframe tbody tr th {\n",
       "        vertical-align: top;\n",
       "    }\n",
       "\n",
       "    .dataframe thead th {\n",
       "        text-align: right;\n",
       "    }\n",
       "</style>\n",
       "<table border=\"1\" class=\"dataframe\">\n",
       "  <thead>\n",
       "    <tr style=\"text-align: right;\">\n",
       "      <th></th>\n",
       "      <th>Duration_month</th>\n",
       "      <th>Installment_rate_in_%_of_disposable_income</th>\n",
       "      <th>Residence_Status</th>\n",
       "      <th>Age</th>\n",
       "      <th>Number_of_existing_credits_at_this_bank</th>\n",
       "      <th>Nos_of_dependance</th>\n",
       "      <th>Credit_worthiness</th>\n",
       "      <th>no_credits_taken</th>\n",
       "      <th>Credits_paid_at_bank</th>\n",
       "      <th>Credits_paid_till now</th>\n",
       "      <th>delay_in_paying_past_credit</th>\n",
       "      <th>critical_account</th>\n",
       "      <th>car_new</th>\n",
       "      <th>car_used</th>\n",
       "      <th>others</th>\n",
       "      <th>furniture/equipment</th>\n",
       "      <th>radio/television</th>\n",
       "      <th>domestic_appliances</th>\n",
       "      <th>repairs</th>\n",
       "      <th>education</th>\n",
       "      <th>retraining</th>\n",
       "      <th>business</th>\n",
       "      <th>&lt;_100DM</th>\n",
       "      <th>100-500DM</th>\n",
       "      <th>500-1000DM</th>\n",
       "      <th>&gt;=1000DM</th>\n",
       "      <th>Unknown/no_savings</th>\n",
       "      <th>unemployed</th>\n",
       "      <th>&lt;_1</th>\n",
       "      <th>1-4years</th>\n",
       "      <th>4-7years</th>\n",
       "      <th>&gt;=_7years</th>\n",
       "      <th>male_divorced/separated</th>\n",
       "      <th>female_divorced/separated/married</th>\n",
       "      <th>male_single</th>\n",
       "      <th>male_married/widowed</th>\n",
       "      <th>none_debtors/guarantors</th>\n",
       "      <th>co-applicant</th>\n",
       "      <th>guarantor</th>\n",
       "      <th>real estate</th>\n",
       "      <th>society_savings_agr/life_insurance</th>\n",
       "      <th>other_property</th>\n",
       "      <th>unknown/no_property</th>\n",
       "      <th>installment_plan_bank</th>\n",
       "      <th>installment_plan_stores</th>\n",
       "      <th>none</th>\n",
       "      <th>housing_rent</th>\n",
       "      <th>housing_own</th>\n",
       "      <th>housing_for_free</th>\n",
       "      <th>unemployed_non_resident</th>\n",
       "      <th>unskilled_resident</th>\n",
       "      <th>skilled_employee</th>\n",
       "      <th>self-employed_highly_qualified_employee</th>\n",
       "      <th>telephone_None</th>\n",
       "      <th>telephone_Yes</th>\n",
       "      <th>foreign_Yes</th>\n",
       "      <th>foreign_No</th>\n",
       "    </tr>\n",
       "  </thead>\n",
       "  <tbody>\n",
       "    <tr>\n",
       "      <th>0</th>\n",
       "      <td>6</td>\n",
       "      <td>4</td>\n",
       "      <td>4</td>\n",
       "      <td>67</td>\n",
       "      <td>2</td>\n",
       "      <td>1</td>\n",
       "      <td>1.0</td>\n",
       "      <td>0</td>\n",
       "      <td>0</td>\n",
       "      <td>0</td>\n",
       "      <td>0</td>\n",
       "      <td>1</td>\n",
       "      <td>0</td>\n",
       "      <td>0</td>\n",
       "      <td>0</td>\n",
       "      <td>0</td>\n",
       "      <td>1</td>\n",
       "      <td>0</td>\n",
       "      <td>0</td>\n",
       "      <td>0</td>\n",
       "      <td>0</td>\n",
       "      <td>0</td>\n",
       "      <td>0</td>\n",
       "      <td>0</td>\n",
       "      <td>0</td>\n",
       "      <td>0</td>\n",
       "      <td>1</td>\n",
       "      <td>0</td>\n",
       "      <td>0</td>\n",
       "      <td>0</td>\n",
       "      <td>0</td>\n",
       "      <td>1</td>\n",
       "      <td>0</td>\n",
       "      <td>0</td>\n",
       "      <td>1</td>\n",
       "      <td>0</td>\n",
       "      <td>1</td>\n",
       "      <td>0</td>\n",
       "      <td>0</td>\n",
       "      <td>1</td>\n",
       "      <td>0</td>\n",
       "      <td>0</td>\n",
       "      <td>0</td>\n",
       "      <td>0</td>\n",
       "      <td>0</td>\n",
       "      <td>1</td>\n",
       "      <td>0</td>\n",
       "      <td>1</td>\n",
       "      <td>0</td>\n",
       "      <td>0</td>\n",
       "      <td>0</td>\n",
       "      <td>1</td>\n",
       "      <td>0</td>\n",
       "      <td>0</td>\n",
       "      <td>1</td>\n",
       "      <td>1</td>\n",
       "      <td>0</td>\n",
       "    </tr>\n",
       "    <tr>\n",
       "      <th>1</th>\n",
       "      <td>48</td>\n",
       "      <td>2</td>\n",
       "      <td>2</td>\n",
       "      <td>22</td>\n",
       "      <td>1</td>\n",
       "      <td>1</td>\n",
       "      <td>2.0</td>\n",
       "      <td>0</td>\n",
       "      <td>0</td>\n",
       "      <td>1</td>\n",
       "      <td>0</td>\n",
       "      <td>0</td>\n",
       "      <td>0</td>\n",
       "      <td>0</td>\n",
       "      <td>0</td>\n",
       "      <td>0</td>\n",
       "      <td>1</td>\n",
       "      <td>0</td>\n",
       "      <td>0</td>\n",
       "      <td>0</td>\n",
       "      <td>0</td>\n",
       "      <td>0</td>\n",
       "      <td>1</td>\n",
       "      <td>0</td>\n",
       "      <td>0</td>\n",
       "      <td>0</td>\n",
       "      <td>0</td>\n",
       "      <td>0</td>\n",
       "      <td>0</td>\n",
       "      <td>1</td>\n",
       "      <td>0</td>\n",
       "      <td>0</td>\n",
       "      <td>0</td>\n",
       "      <td>1</td>\n",
       "      <td>0</td>\n",
       "      <td>0</td>\n",
       "      <td>1</td>\n",
       "      <td>0</td>\n",
       "      <td>0</td>\n",
       "      <td>1</td>\n",
       "      <td>0</td>\n",
       "      <td>0</td>\n",
       "      <td>0</td>\n",
       "      <td>0</td>\n",
       "      <td>0</td>\n",
       "      <td>1</td>\n",
       "      <td>0</td>\n",
       "      <td>1</td>\n",
       "      <td>0</td>\n",
       "      <td>0</td>\n",
       "      <td>0</td>\n",
       "      <td>1</td>\n",
       "      <td>0</td>\n",
       "      <td>1</td>\n",
       "      <td>0</td>\n",
       "      <td>1</td>\n",
       "      <td>0</td>\n",
       "    </tr>\n",
       "    <tr>\n",
       "      <th>2</th>\n",
       "      <td>12</td>\n",
       "      <td>2</td>\n",
       "      <td>3</td>\n",
       "      <td>49</td>\n",
       "      <td>1</td>\n",
       "      <td>2</td>\n",
       "      <td>1.0</td>\n",
       "      <td>0</td>\n",
       "      <td>0</td>\n",
       "      <td>0</td>\n",
       "      <td>0</td>\n",
       "      <td>1</td>\n",
       "      <td>0</td>\n",
       "      <td>0</td>\n",
       "      <td>0</td>\n",
       "      <td>0</td>\n",
       "      <td>0</td>\n",
       "      <td>0</td>\n",
       "      <td>0</td>\n",
       "      <td>1</td>\n",
       "      <td>0</td>\n",
       "      <td>0</td>\n",
       "      <td>1</td>\n",
       "      <td>0</td>\n",
       "      <td>0</td>\n",
       "      <td>0</td>\n",
       "      <td>0</td>\n",
       "      <td>0</td>\n",
       "      <td>0</td>\n",
       "      <td>0</td>\n",
       "      <td>1</td>\n",
       "      <td>0</td>\n",
       "      <td>0</td>\n",
       "      <td>0</td>\n",
       "      <td>1</td>\n",
       "      <td>0</td>\n",
       "      <td>1</td>\n",
       "      <td>0</td>\n",
       "      <td>0</td>\n",
       "      <td>1</td>\n",
       "      <td>0</td>\n",
       "      <td>0</td>\n",
       "      <td>0</td>\n",
       "      <td>0</td>\n",
       "      <td>0</td>\n",
       "      <td>1</td>\n",
       "      <td>0</td>\n",
       "      <td>1</td>\n",
       "      <td>0</td>\n",
       "      <td>0</td>\n",
       "      <td>1</td>\n",
       "      <td>0</td>\n",
       "      <td>0</td>\n",
       "      <td>1</td>\n",
       "      <td>0</td>\n",
       "      <td>1</td>\n",
       "      <td>0</td>\n",
       "    </tr>\n",
       "    <tr>\n",
       "      <th>3</th>\n",
       "      <td>42</td>\n",
       "      <td>2</td>\n",
       "      <td>4</td>\n",
       "      <td>45</td>\n",
       "      <td>1</td>\n",
       "      <td>2</td>\n",
       "      <td>1.0</td>\n",
       "      <td>0</td>\n",
       "      <td>0</td>\n",
       "      <td>1</td>\n",
       "      <td>0</td>\n",
       "      <td>0</td>\n",
       "      <td>0</td>\n",
       "      <td>0</td>\n",
       "      <td>0</td>\n",
       "      <td>1</td>\n",
       "      <td>0</td>\n",
       "      <td>0</td>\n",
       "      <td>0</td>\n",
       "      <td>0</td>\n",
       "      <td>0</td>\n",
       "      <td>0</td>\n",
       "      <td>1</td>\n",
       "      <td>0</td>\n",
       "      <td>0</td>\n",
       "      <td>0</td>\n",
       "      <td>0</td>\n",
       "      <td>0</td>\n",
       "      <td>0</td>\n",
       "      <td>0</td>\n",
       "      <td>1</td>\n",
       "      <td>0</td>\n",
       "      <td>0</td>\n",
       "      <td>0</td>\n",
       "      <td>1</td>\n",
       "      <td>0</td>\n",
       "      <td>0</td>\n",
       "      <td>0</td>\n",
       "      <td>1</td>\n",
       "      <td>0</td>\n",
       "      <td>1</td>\n",
       "      <td>0</td>\n",
       "      <td>0</td>\n",
       "      <td>0</td>\n",
       "      <td>0</td>\n",
       "      <td>1</td>\n",
       "      <td>0</td>\n",
       "      <td>0</td>\n",
       "      <td>1</td>\n",
       "      <td>0</td>\n",
       "      <td>0</td>\n",
       "      <td>1</td>\n",
       "      <td>0</td>\n",
       "      <td>1</td>\n",
       "      <td>0</td>\n",
       "      <td>1</td>\n",
       "      <td>0</td>\n",
       "    </tr>\n",
       "    <tr>\n",
       "      <th>4</th>\n",
       "      <td>24</td>\n",
       "      <td>3</td>\n",
       "      <td>4</td>\n",
       "      <td>53</td>\n",
       "      <td>2</td>\n",
       "      <td>2</td>\n",
       "      <td>2.0</td>\n",
       "      <td>0</td>\n",
       "      <td>0</td>\n",
       "      <td>0</td>\n",
       "      <td>1</td>\n",
       "      <td>0</td>\n",
       "      <td>1</td>\n",
       "      <td>0</td>\n",
       "      <td>0</td>\n",
       "      <td>0</td>\n",
       "      <td>0</td>\n",
       "      <td>0</td>\n",
       "      <td>0</td>\n",
       "      <td>0</td>\n",
       "      <td>0</td>\n",
       "      <td>0</td>\n",
       "      <td>1</td>\n",
       "      <td>0</td>\n",
       "      <td>0</td>\n",
       "      <td>0</td>\n",
       "      <td>0</td>\n",
       "      <td>0</td>\n",
       "      <td>0</td>\n",
       "      <td>1</td>\n",
       "      <td>0</td>\n",
       "      <td>0</td>\n",
       "      <td>0</td>\n",
       "      <td>0</td>\n",
       "      <td>1</td>\n",
       "      <td>0</td>\n",
       "      <td>1</td>\n",
       "      <td>0</td>\n",
       "      <td>0</td>\n",
       "      <td>0</td>\n",
       "      <td>0</td>\n",
       "      <td>0</td>\n",
       "      <td>1</td>\n",
       "      <td>0</td>\n",
       "      <td>0</td>\n",
       "      <td>1</td>\n",
       "      <td>0</td>\n",
       "      <td>0</td>\n",
       "      <td>1</td>\n",
       "      <td>0</td>\n",
       "      <td>0</td>\n",
       "      <td>1</td>\n",
       "      <td>0</td>\n",
       "      <td>1</td>\n",
       "      <td>0</td>\n",
       "      <td>1</td>\n",
       "      <td>0</td>\n",
       "    </tr>\n",
       "  </tbody>\n",
       "</table>\n",
       "</div>"
      ],
      "text/plain": [
       "   Duration_month Installment_rate_in_%_of_disposable_income Residence_Status  \\\n",
       "0               6                                          4                4   \n",
       "1              48                                          2                2   \n",
       "2              12                                          2                3   \n",
       "3              42                                          2                4   \n",
       "4              24                                          3                4   \n",
       "\n",
       "  Age Number_of_existing_credits_at_this_bank Nos_of_dependance  \\\n",
       "0  67                                       2                 1   \n",
       "1  22                                       1                 1   \n",
       "2  49                                       1                 2   \n",
       "3  45                                       1                 2   \n",
       "4  53                                       2                 2   \n",
       "\n",
       "   Credit_worthiness  no_credits_taken  Credits_paid_at_bank  \\\n",
       "0                1.0                 0                     0   \n",
       "1                2.0                 0                     0   \n",
       "2                1.0                 0                     0   \n",
       "3                1.0                 0                     0   \n",
       "4                2.0                 0                     0   \n",
       "\n",
       "   Credits_paid_till now  delay_in_paying_past_credit  critical_account  \\\n",
       "0                      0                            0                 1   \n",
       "1                      1                            0                 0   \n",
       "2                      0                            0                 1   \n",
       "3                      1                            0                 0   \n",
       "4                      0                            1                 0   \n",
       "\n",
       "   car_new  car_used  others  furniture/equipment  radio/television  \\\n",
       "0        0         0       0                    0                 1   \n",
       "1        0         0       0                    0                 1   \n",
       "2        0         0       0                    0                 0   \n",
       "3        0         0       0                    1                 0   \n",
       "4        1         0       0                    0                 0   \n",
       "\n",
       "   domestic_appliances  repairs  education  retraining  business  <_100DM  \\\n",
       "0                    0        0          0           0         0        0   \n",
       "1                    0        0          0           0         0        1   \n",
       "2                    0        0          1           0         0        1   \n",
       "3                    0        0          0           0         0        1   \n",
       "4                    0        0          0           0         0        1   \n",
       "\n",
       "   100-500DM  500-1000DM  >=1000DM  Unknown/no_savings  unemployed  <_1  \\\n",
       "0          0           0         0                   1           0    0   \n",
       "1          0           0         0                   0           0    0   \n",
       "2          0           0         0                   0           0    0   \n",
       "3          0           0         0                   0           0    0   \n",
       "4          0           0         0                   0           0    0   \n",
       "\n",
       "   1-4years  4-7years  >=_7years  male_divorced/separated  \\\n",
       "0         0         0          1                        0   \n",
       "1         1         0          0                        0   \n",
       "2         0         1          0                        0   \n",
       "3         0         1          0                        0   \n",
       "4         1         0          0                        0   \n",
       "\n",
       "   female_divorced/separated/married  male_single  male_married/widowed  \\\n",
       "0                                  0            1                     0   \n",
       "1                                  1            0                     0   \n",
       "2                                  0            1                     0   \n",
       "3                                  0            1                     0   \n",
       "4                                  0            1                     0   \n",
       "\n",
       "   none_debtors/guarantors  co-applicant  guarantor  real estate  \\\n",
       "0                        1             0          0            1   \n",
       "1                        1             0          0            1   \n",
       "2                        1             0          0            1   \n",
       "3                        0             0          1            0   \n",
       "4                        1             0          0            0   \n",
       "\n",
       "   society_savings_agr/life_insurance  other_property  unknown/no_property  \\\n",
       "0                                   0               0                    0   \n",
       "1                                   0               0                    0   \n",
       "2                                   0               0                    0   \n",
       "3                                   1               0                    0   \n",
       "4                                   0               0                    1   \n",
       "\n",
       "   installment_plan_bank  installment_plan_stores   none  housing_rent  \\\n",
       "0                      0                        0      1             0   \n",
       "1                      0                        0      1             0   \n",
       "2                      0                        0      1             0   \n",
       "3                      0                        0      1             0   \n",
       "4                      0                        0      1             0   \n",
       "\n",
       "   housing_own  housing_for_free  unemployed_non_resident  unskilled_resident  \\\n",
       "0            1                 0                        0                   0   \n",
       "1            1                 0                        0                   0   \n",
       "2            1                 0                        0                   1   \n",
       "3            0                 1                        0                   0   \n",
       "4            0                 1                        0                   0   \n",
       "\n",
       "   skilled_employee  self-employed_highly_qualified_employee  telephone_None  \\\n",
       "0                 1                                        0               0   \n",
       "1                 1                                        0               1   \n",
       "2                 0                                        0               1   \n",
       "3                 1                                        0               1   \n",
       "4                 1                                        0               1   \n",
       "\n",
       "   telephone_Yes  foreign_Yes  foreign_No  \n",
       "0              1            1           0  \n",
       "1              0            1           0  \n",
       "2              0            1           0  \n",
       "3              0            1           0  \n",
       "4              0            1           0  "
      ]
     },
     "execution_count": 364,
     "metadata": {},
     "output_type": "execute_result"
    }
   ],
   "source": [
    "df.head()"
   ]
  },
  {
   "cell_type": "code",
   "execution_count": 365,
   "metadata": {},
   "outputs": [],
   "source": [
    "clean_df = df.copy()"
   ]
  },
  {
   "cell_type": "code",
   "execution_count": 366,
   "metadata": {},
   "outputs": [],
   "source": [
    "target = clean_df.iloc[:,6:7]"
   ]
  },
  {
   "cell_type": "code",
   "execution_count": 367,
   "metadata": {},
   "outputs": [],
   "source": [
    "featuers = clean_df.drop(['Credit_worthiness'], axis=1)"
   ]
  },
  {
   "cell_type": "code",
   "execution_count": 368,
   "metadata": {},
   "outputs": [],
   "source": [
    "from sklearn.preprocessing import StandardScaler"
   ]
  },
  {
   "cell_type": "code",
   "execution_count": 369,
   "metadata": {},
   "outputs": [],
   "source": [
    "from sklearn.model_selection import train_test_split\n",
    "from sklearn.model_selection import cross_val_score\n",
    "from sklearn.ensemble import RandomForestClassifier"
   ]
  },
  {
   "cell_type": "code",
   "execution_count": 370,
   "metadata": {
    "scrolled": true
   },
   "outputs": [],
   "source": [
    "scaler = StandardScaler()"
   ]
  },
  {
   "cell_type": "code",
   "execution_count": 371,
   "metadata": {},
   "outputs": [
    {
     "data": {
      "text/html": [
       "<div>\n",
       "<style scoped>\n",
       "    .dataframe tbody tr th:only-of-type {\n",
       "        vertical-align: middle;\n",
       "    }\n",
       "\n",
       "    .dataframe tbody tr th {\n",
       "        vertical-align: top;\n",
       "    }\n",
       "\n",
       "    .dataframe thead th {\n",
       "        text-align: right;\n",
       "    }\n",
       "</style>\n",
       "<table border=\"1\" class=\"dataframe\">\n",
       "  <thead>\n",
       "    <tr style=\"text-align: right;\">\n",
       "      <th></th>\n",
       "      <th>Duration_month</th>\n",
       "      <th>Installment_rate_in_%_of_disposable_income</th>\n",
       "      <th>Residence_Status</th>\n",
       "      <th>Age</th>\n",
       "      <th>Number_of_existing_credits_at_this_bank</th>\n",
       "      <th>Nos_of_dependance</th>\n",
       "      <th>Credit_worthiness</th>\n",
       "      <th>no_credits_taken</th>\n",
       "      <th>Credits_paid_at_bank</th>\n",
       "      <th>Credits_paid_till now</th>\n",
       "      <th>delay_in_paying_past_credit</th>\n",
       "      <th>critical_account</th>\n",
       "      <th>car_new</th>\n",
       "      <th>car_used</th>\n",
       "      <th>others</th>\n",
       "      <th>furniture/equipment</th>\n",
       "      <th>radio/television</th>\n",
       "      <th>domestic_appliances</th>\n",
       "      <th>repairs</th>\n",
       "      <th>education</th>\n",
       "      <th>retraining</th>\n",
       "      <th>business</th>\n",
       "      <th>&lt;_100DM</th>\n",
       "      <th>100-500DM</th>\n",
       "      <th>500-1000DM</th>\n",
       "      <th>&gt;=1000DM</th>\n",
       "      <th>Unknown/no_savings</th>\n",
       "      <th>unemployed</th>\n",
       "      <th>&lt;_1</th>\n",
       "      <th>1-4years</th>\n",
       "      <th>4-7years</th>\n",
       "      <th>&gt;=_7years</th>\n",
       "      <th>male_divorced/separated</th>\n",
       "      <th>female_divorced/separated/married</th>\n",
       "      <th>male_single</th>\n",
       "      <th>male_married/widowed</th>\n",
       "      <th>none_debtors/guarantors</th>\n",
       "      <th>co-applicant</th>\n",
       "      <th>guarantor</th>\n",
       "      <th>real estate</th>\n",
       "      <th>society_savings_agr/life_insurance</th>\n",
       "      <th>other_property</th>\n",
       "      <th>unknown/no_property</th>\n",
       "      <th>installment_plan_bank</th>\n",
       "      <th>installment_plan_stores</th>\n",
       "      <th>none</th>\n",
       "      <th>housing_rent</th>\n",
       "      <th>housing_own</th>\n",
       "      <th>housing_for_free</th>\n",
       "      <th>unemployed_non_resident</th>\n",
       "      <th>unskilled_resident</th>\n",
       "      <th>skilled_employee</th>\n",
       "      <th>self-employed_highly_qualified_employee</th>\n",
       "      <th>telephone_None</th>\n",
       "      <th>telephone_Yes</th>\n",
       "      <th>foreign_Yes</th>\n",
       "      <th>foreign_No</th>\n",
       "    </tr>\n",
       "  </thead>\n",
       "  <tbody>\n",
       "    <tr>\n",
       "      <th>0</th>\n",
       "      <td>6</td>\n",
       "      <td>4</td>\n",
       "      <td>4</td>\n",
       "      <td>67</td>\n",
       "      <td>2</td>\n",
       "      <td>1</td>\n",
       "      <td>1.0</td>\n",
       "      <td>0</td>\n",
       "      <td>0</td>\n",
       "      <td>0</td>\n",
       "      <td>0</td>\n",
       "      <td>1</td>\n",
       "      <td>0</td>\n",
       "      <td>0</td>\n",
       "      <td>0</td>\n",
       "      <td>0</td>\n",
       "      <td>1</td>\n",
       "      <td>0</td>\n",
       "      <td>0</td>\n",
       "      <td>0</td>\n",
       "      <td>0</td>\n",
       "      <td>0</td>\n",
       "      <td>0</td>\n",
       "      <td>0</td>\n",
       "      <td>0</td>\n",
       "      <td>0</td>\n",
       "      <td>1</td>\n",
       "      <td>0</td>\n",
       "      <td>0</td>\n",
       "      <td>0</td>\n",
       "      <td>0</td>\n",
       "      <td>1</td>\n",
       "      <td>0</td>\n",
       "      <td>0</td>\n",
       "      <td>1</td>\n",
       "      <td>0</td>\n",
       "      <td>1</td>\n",
       "      <td>0</td>\n",
       "      <td>0</td>\n",
       "      <td>1</td>\n",
       "      <td>0</td>\n",
       "      <td>0</td>\n",
       "      <td>0</td>\n",
       "      <td>0</td>\n",
       "      <td>0</td>\n",
       "      <td>1</td>\n",
       "      <td>0</td>\n",
       "      <td>1</td>\n",
       "      <td>0</td>\n",
       "      <td>0</td>\n",
       "      <td>0</td>\n",
       "      <td>1</td>\n",
       "      <td>0</td>\n",
       "      <td>0</td>\n",
       "      <td>1</td>\n",
       "      <td>1</td>\n",
       "      <td>0</td>\n",
       "    </tr>\n",
       "    <tr>\n",
       "      <th>1</th>\n",
       "      <td>48</td>\n",
       "      <td>2</td>\n",
       "      <td>2</td>\n",
       "      <td>22</td>\n",
       "      <td>1</td>\n",
       "      <td>1</td>\n",
       "      <td>2.0</td>\n",
       "      <td>0</td>\n",
       "      <td>0</td>\n",
       "      <td>1</td>\n",
       "      <td>0</td>\n",
       "      <td>0</td>\n",
       "      <td>0</td>\n",
       "      <td>0</td>\n",
       "      <td>0</td>\n",
       "      <td>0</td>\n",
       "      <td>1</td>\n",
       "      <td>0</td>\n",
       "      <td>0</td>\n",
       "      <td>0</td>\n",
       "      <td>0</td>\n",
       "      <td>0</td>\n",
       "      <td>1</td>\n",
       "      <td>0</td>\n",
       "      <td>0</td>\n",
       "      <td>0</td>\n",
       "      <td>0</td>\n",
       "      <td>0</td>\n",
       "      <td>0</td>\n",
       "      <td>1</td>\n",
       "      <td>0</td>\n",
       "      <td>0</td>\n",
       "      <td>0</td>\n",
       "      <td>1</td>\n",
       "      <td>0</td>\n",
       "      <td>0</td>\n",
       "      <td>1</td>\n",
       "      <td>0</td>\n",
       "      <td>0</td>\n",
       "      <td>1</td>\n",
       "      <td>0</td>\n",
       "      <td>0</td>\n",
       "      <td>0</td>\n",
       "      <td>0</td>\n",
       "      <td>0</td>\n",
       "      <td>1</td>\n",
       "      <td>0</td>\n",
       "      <td>1</td>\n",
       "      <td>0</td>\n",
       "      <td>0</td>\n",
       "      <td>0</td>\n",
       "      <td>1</td>\n",
       "      <td>0</td>\n",
       "      <td>1</td>\n",
       "      <td>0</td>\n",
       "      <td>1</td>\n",
       "      <td>0</td>\n",
       "    </tr>\n",
       "    <tr>\n",
       "      <th>2</th>\n",
       "      <td>12</td>\n",
       "      <td>2</td>\n",
       "      <td>3</td>\n",
       "      <td>49</td>\n",
       "      <td>1</td>\n",
       "      <td>2</td>\n",
       "      <td>1.0</td>\n",
       "      <td>0</td>\n",
       "      <td>0</td>\n",
       "      <td>0</td>\n",
       "      <td>0</td>\n",
       "      <td>1</td>\n",
       "      <td>0</td>\n",
       "      <td>0</td>\n",
       "      <td>0</td>\n",
       "      <td>0</td>\n",
       "      <td>0</td>\n",
       "      <td>0</td>\n",
       "      <td>0</td>\n",
       "      <td>1</td>\n",
       "      <td>0</td>\n",
       "      <td>0</td>\n",
       "      <td>1</td>\n",
       "      <td>0</td>\n",
       "      <td>0</td>\n",
       "      <td>0</td>\n",
       "      <td>0</td>\n",
       "      <td>0</td>\n",
       "      <td>0</td>\n",
       "      <td>0</td>\n",
       "      <td>1</td>\n",
       "      <td>0</td>\n",
       "      <td>0</td>\n",
       "      <td>0</td>\n",
       "      <td>1</td>\n",
       "      <td>0</td>\n",
       "      <td>1</td>\n",
       "      <td>0</td>\n",
       "      <td>0</td>\n",
       "      <td>1</td>\n",
       "      <td>0</td>\n",
       "      <td>0</td>\n",
       "      <td>0</td>\n",
       "      <td>0</td>\n",
       "      <td>0</td>\n",
       "      <td>1</td>\n",
       "      <td>0</td>\n",
       "      <td>1</td>\n",
       "      <td>0</td>\n",
       "      <td>0</td>\n",
       "      <td>1</td>\n",
       "      <td>0</td>\n",
       "      <td>0</td>\n",
       "      <td>1</td>\n",
       "      <td>0</td>\n",
       "      <td>1</td>\n",
       "      <td>0</td>\n",
       "    </tr>\n",
       "    <tr>\n",
       "      <th>3</th>\n",
       "      <td>42</td>\n",
       "      <td>2</td>\n",
       "      <td>4</td>\n",
       "      <td>45</td>\n",
       "      <td>1</td>\n",
       "      <td>2</td>\n",
       "      <td>1.0</td>\n",
       "      <td>0</td>\n",
       "      <td>0</td>\n",
       "      <td>1</td>\n",
       "      <td>0</td>\n",
       "      <td>0</td>\n",
       "      <td>0</td>\n",
       "      <td>0</td>\n",
       "      <td>0</td>\n",
       "      <td>1</td>\n",
       "      <td>0</td>\n",
       "      <td>0</td>\n",
       "      <td>0</td>\n",
       "      <td>0</td>\n",
       "      <td>0</td>\n",
       "      <td>0</td>\n",
       "      <td>1</td>\n",
       "      <td>0</td>\n",
       "      <td>0</td>\n",
       "      <td>0</td>\n",
       "      <td>0</td>\n",
       "      <td>0</td>\n",
       "      <td>0</td>\n",
       "      <td>0</td>\n",
       "      <td>1</td>\n",
       "      <td>0</td>\n",
       "      <td>0</td>\n",
       "      <td>0</td>\n",
       "      <td>1</td>\n",
       "      <td>0</td>\n",
       "      <td>0</td>\n",
       "      <td>0</td>\n",
       "      <td>1</td>\n",
       "      <td>0</td>\n",
       "      <td>1</td>\n",
       "      <td>0</td>\n",
       "      <td>0</td>\n",
       "      <td>0</td>\n",
       "      <td>0</td>\n",
       "      <td>1</td>\n",
       "      <td>0</td>\n",
       "      <td>0</td>\n",
       "      <td>1</td>\n",
       "      <td>0</td>\n",
       "      <td>0</td>\n",
       "      <td>1</td>\n",
       "      <td>0</td>\n",
       "      <td>1</td>\n",
       "      <td>0</td>\n",
       "      <td>1</td>\n",
       "      <td>0</td>\n",
       "    </tr>\n",
       "    <tr>\n",
       "      <th>4</th>\n",
       "      <td>24</td>\n",
       "      <td>3</td>\n",
       "      <td>4</td>\n",
       "      <td>53</td>\n",
       "      <td>2</td>\n",
       "      <td>2</td>\n",
       "      <td>2.0</td>\n",
       "      <td>0</td>\n",
       "      <td>0</td>\n",
       "      <td>0</td>\n",
       "      <td>1</td>\n",
       "      <td>0</td>\n",
       "      <td>1</td>\n",
       "      <td>0</td>\n",
       "      <td>0</td>\n",
       "      <td>0</td>\n",
       "      <td>0</td>\n",
       "      <td>0</td>\n",
       "      <td>0</td>\n",
       "      <td>0</td>\n",
       "      <td>0</td>\n",
       "      <td>0</td>\n",
       "      <td>1</td>\n",
       "      <td>0</td>\n",
       "      <td>0</td>\n",
       "      <td>0</td>\n",
       "      <td>0</td>\n",
       "      <td>0</td>\n",
       "      <td>0</td>\n",
       "      <td>1</td>\n",
       "      <td>0</td>\n",
       "      <td>0</td>\n",
       "      <td>0</td>\n",
       "      <td>0</td>\n",
       "      <td>1</td>\n",
       "      <td>0</td>\n",
       "      <td>1</td>\n",
       "      <td>0</td>\n",
       "      <td>0</td>\n",
       "      <td>0</td>\n",
       "      <td>0</td>\n",
       "      <td>0</td>\n",
       "      <td>1</td>\n",
       "      <td>0</td>\n",
       "      <td>0</td>\n",
       "      <td>1</td>\n",
       "      <td>0</td>\n",
       "      <td>0</td>\n",
       "      <td>1</td>\n",
       "      <td>0</td>\n",
       "      <td>0</td>\n",
       "      <td>1</td>\n",
       "      <td>0</td>\n",
       "      <td>1</td>\n",
       "      <td>0</td>\n",
       "      <td>1</td>\n",
       "      <td>0</td>\n",
       "    </tr>\n",
       "  </tbody>\n",
       "</table>\n",
       "</div>"
      ],
      "text/plain": [
       "   Duration_month Installment_rate_in_%_of_disposable_income Residence_Status  \\\n",
       "0               6                                          4                4   \n",
       "1              48                                          2                2   \n",
       "2              12                                          2                3   \n",
       "3              42                                          2                4   \n",
       "4              24                                          3                4   \n",
       "\n",
       "  Age Number_of_existing_credits_at_this_bank Nos_of_dependance  \\\n",
       "0  67                                       2                 1   \n",
       "1  22                                       1                 1   \n",
       "2  49                                       1                 2   \n",
       "3  45                                       1                 2   \n",
       "4  53                                       2                 2   \n",
       "\n",
       "   Credit_worthiness  no_credits_taken  Credits_paid_at_bank  \\\n",
       "0                1.0                 0                     0   \n",
       "1                2.0                 0                     0   \n",
       "2                1.0                 0                     0   \n",
       "3                1.0                 0                     0   \n",
       "4                2.0                 0                     0   \n",
       "\n",
       "   Credits_paid_till now  delay_in_paying_past_credit  critical_account  \\\n",
       "0                      0                            0                 1   \n",
       "1                      1                            0                 0   \n",
       "2                      0                            0                 1   \n",
       "3                      1                            0                 0   \n",
       "4                      0                            1                 0   \n",
       "\n",
       "   car_new  car_used  others  furniture/equipment  radio/television  \\\n",
       "0        0         0       0                    0                 1   \n",
       "1        0         0       0                    0                 1   \n",
       "2        0         0       0                    0                 0   \n",
       "3        0         0       0                    1                 0   \n",
       "4        1         0       0                    0                 0   \n",
       "\n",
       "   domestic_appliances  repairs  education  retraining  business  <_100DM  \\\n",
       "0                    0        0          0           0         0        0   \n",
       "1                    0        0          0           0         0        1   \n",
       "2                    0        0          1           0         0        1   \n",
       "3                    0        0          0           0         0        1   \n",
       "4                    0        0          0           0         0        1   \n",
       "\n",
       "   100-500DM  500-1000DM  >=1000DM  Unknown/no_savings  unemployed  <_1  \\\n",
       "0          0           0         0                   1           0    0   \n",
       "1          0           0         0                   0           0    0   \n",
       "2          0           0         0                   0           0    0   \n",
       "3          0           0         0                   0           0    0   \n",
       "4          0           0         0                   0           0    0   \n",
       "\n",
       "   1-4years  4-7years  >=_7years  male_divorced/separated  \\\n",
       "0         0         0          1                        0   \n",
       "1         1         0          0                        0   \n",
       "2         0         1          0                        0   \n",
       "3         0         1          0                        0   \n",
       "4         1         0          0                        0   \n",
       "\n",
       "   female_divorced/separated/married  male_single  male_married/widowed  \\\n",
       "0                                  0            1                     0   \n",
       "1                                  1            0                     0   \n",
       "2                                  0            1                     0   \n",
       "3                                  0            1                     0   \n",
       "4                                  0            1                     0   \n",
       "\n",
       "   none_debtors/guarantors  co-applicant  guarantor  real estate  \\\n",
       "0                        1             0          0            1   \n",
       "1                        1             0          0            1   \n",
       "2                        1             0          0            1   \n",
       "3                        0             0          1            0   \n",
       "4                        1             0          0            0   \n",
       "\n",
       "   society_savings_agr/life_insurance  other_property  unknown/no_property  \\\n",
       "0                                   0               0                    0   \n",
       "1                                   0               0                    0   \n",
       "2                                   0               0                    0   \n",
       "3                                   1               0                    0   \n",
       "4                                   0               0                    1   \n",
       "\n",
       "   installment_plan_bank  installment_plan_stores   none  housing_rent  \\\n",
       "0                      0                        0      1             0   \n",
       "1                      0                        0      1             0   \n",
       "2                      0                        0      1             0   \n",
       "3                      0                        0      1             0   \n",
       "4                      0                        0      1             0   \n",
       "\n",
       "   housing_own  housing_for_free  unemployed_non_resident  unskilled_resident  \\\n",
       "0            1                 0                        0                   0   \n",
       "1            1                 0                        0                   0   \n",
       "2            1                 0                        0                   1   \n",
       "3            0                 1                        0                   0   \n",
       "4            0                 1                        0                   0   \n",
       "\n",
       "   skilled_employee  self-employed_highly_qualified_employee  telephone_None  \\\n",
       "0                 1                                        0               0   \n",
       "1                 1                                        0               1   \n",
       "2                 0                                        0               1   \n",
       "3                 1                                        0               1   \n",
       "4                 1                                        0               1   \n",
       "\n",
       "   telephone_Yes  foreign_Yes  foreign_No  \n",
       "0              1            1           0  \n",
       "1              0            1           0  \n",
       "2              0            1           0  \n",
       "3              0            1           0  \n",
       "4              0            1           0  "
      ]
     },
     "execution_count": 371,
     "metadata": {},
     "output_type": "execute_result"
    }
   ],
   "source": [
    "clean_df.head()"
   ]
  },
  {
   "cell_type": "code",
   "execution_count": 372,
   "metadata": {
    "scrolled": true
   },
   "outputs": [],
   "source": [
    "df_std = scaler.fit_transform(featuers)"
   ]
  },
  {
   "cell_type": "code",
   "execution_count": 373,
   "metadata": {},
   "outputs": [],
   "source": [
    "x_train,x_test,y_train,y_test = train_test_split(featuers, target,random_state=42) "
   ]
  },
  {
   "cell_type": "code",
   "execution_count": 377,
   "metadata": {},
   "outputs": [],
   "source": [
    "import pickle\n",
    "import warnings\n",
    "warnings.filterwarnings('ignore')"
   ]
  },
  {
   "cell_type": "code",
   "execution_count": 378,
   "metadata": {
    "scrolled": false
   },
   "outputs": [],
   "source": [
    "clf = RandomForestClassifier().fit(x_train, y_train)"
   ]
  },
  {
   "cell_type": "code",
   "execution_count": 379,
   "metadata": {},
   "outputs": [],
   "source": [
    "y_pred = clf.predict(x_test)"
   ]
  },
  {
   "cell_type": "code",
   "execution_count": 380,
   "metadata": {},
   "outputs": [],
   "source": [
    "cross_score = cross_val_score(clf,y_test,y_pred, cv=5)"
   ]
  },
  {
   "cell_type": "code",
   "execution_count": 381,
   "metadata": {},
   "outputs": [
    {
     "name": "stdout",
     "output_type": "stream",
     "text": [
      "[0.83673469 0.81632653 0.83333333 0.85106383 0.85106383]\n",
      "mean:  0.8377044434795196\n"
     ]
    }
   ],
   "source": [
    "print(cross_score)\n",
    "print('mean: ',np.mean(cross_score))"
   ]
  },
  {
   "cell_type": "code",
   "execution_count": 382,
   "metadata": {},
   "outputs": [],
   "source": [
    "pkl_clf = 'model.pkl'\n",
    "\n",
    "with open(pkl_clf,'wb') as file:\n",
    "    pickle.dump(clf, file)"
   ]
  },
  {
   "cell_type": "code",
   "execution_count": 383,
   "metadata": {},
   "outputs": [],
   "source": [
    "scaler = 'scaler.pkl'\n",
    "\n",
    "with open(scaler,'wb') as file:\n",
    "    pickle.dump(scaler, file)"
   ]
  },
  {
   "cell_type": "code",
   "execution_count": null,
   "metadata": {},
   "outputs": [],
   "source": []
  }
 ],
 "metadata": {
  "kernelspec": {
   "display_name": "Python 3",
   "language": "python",
   "name": "python3"
  },
  "language_info": {
   "codemirror_mode": {
    "name": "ipython",
    "version": 3
   },
   "file_extension": ".py",
   "mimetype": "text/x-python",
   "name": "python",
   "nbconvert_exporter": "python",
   "pygments_lexer": "ipython3",
   "version": "3.7.3"
  }
 },
 "nbformat": 4,
 "nbformat_minor": 2
}
